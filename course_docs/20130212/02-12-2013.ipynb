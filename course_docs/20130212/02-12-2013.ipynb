{
 "metadata": {
  "name": "02-12-2013"
 },
 "nbformat": 3,
 "nbformat_minor": 0,
 "worksheets": [
  {
   "cells": [
    {
     "cell_type": "code",
     "collapsed": false,
     "input": [
      "thisisanumber = 5"
     ],
     "language": "python",
     "metadata": {},
     "outputs": [],
     "prompt_number": 16
    },
    {
     "cell_type": "code",
     "collapsed": false,
     "input": [
      "isinstance(thisisanumber, (int,float))"
     ],
     "language": "python",
     "metadata": {},
     "outputs": [
      {
       "output_type": "pyout",
       "prompt_number": 17,
       "text": [
        "True"
       ]
      }
     ],
     "prompt_number": 17
    },
    {
     "cell_type": "code",
     "collapsed": false,
     "input": [
      "thisisacharacter ='a'"
     ],
     "language": "python",
     "metadata": {},
     "outputs": [],
     "prompt_number": 10
    },
    {
     "cell_type": "code",
     "collapsed": false,
     "input": [
      "isinstance(thisisacharacter, (int,str))"
     ],
     "language": "python",
     "metadata": {},
     "outputs": [
      {
       "output_type": "pyout",
       "prompt_number": 18,
       "text": [
        "True"
       ]
      }
     ],
     "prompt_number": 18
    },
    {
     "cell_type": "code",
     "collapsed": false,
     "input": [
      "lat, lon = -143.234543, 90.2345234"
     ],
     "language": "python",
     "metadata": {},
     "outputs": [],
     "prompt_number": 22
    },
    {
     "cell_type": "code",
     "collapsed": false,
     "input": [
      "if lat < -90 or lat > 90 or lon < -180 or lon > 180:\n",
      "    print \"invalid location: %f, %f\" % (lat,lon)"
     ],
     "language": "python",
     "metadata": {},
     "outputs": [
      {
       "output_type": "stream",
       "stream": "stdout",
       "text": [
        "invalid location: -143.234543, 90.234523\n"
       ]
      }
     ],
     "prompt_number": 25
    },
    {
     "cell_type": "code",
     "collapsed": false,
     "input": [
      "assert(lat > -90 and lat < 90)"
     ],
     "language": "python",
     "metadata": {},
     "outputs": [
      {
       "ename": "AssertionError",
       "evalue": "",
       "output_type": "pyerr",
       "traceback": [
        "\u001b[0;31m---------------------------------------------------------------------------\u001b[0m\n\u001b[0;31mAssertionError\u001b[0m                            Traceback (most recent call last)",
        "\u001b[0;32m<ipython-input-24-2f781f40945b>\u001b[0m in \u001b[0;36m<module>\u001b[0;34m()\u001b[0m\n\u001b[0;32m----> 1\u001b[0;31m \u001b[0;32massert\u001b[0m\u001b[0;34m(\u001b[0m\u001b[0mlat\u001b[0m \u001b[0;34m>\u001b[0m \u001b[0;34m-\u001b[0m\u001b[0;36m90\u001b[0m \u001b[0;32mand\u001b[0m \u001b[0mlat\u001b[0m \u001b[0;34m<\u001b[0m \u001b[0;36m90\u001b[0m\u001b[0;34m)\u001b[0m\u001b[0;34m\u001b[0m\u001b[0m\n\u001b[0m",
        "\u001b[0;31mAssertionError\u001b[0m: "
       ]
      }
     ],
     "prompt_number": 24
    },
    {
     "cell_type": "code",
     "collapsed": false,
     "input": [
      "print(u'\\xAC02')"
     ],
     "language": "python",
     "metadata": {},
     "outputs": [
      {
       "output_type": "stream",
       "stream": "stdout",
       "text": [
        "\u00ac02\n"
       ]
      }
     ],
     "prompt_number": 36
    },
    {
     "cell_type": "code",
     "collapsed": false,
     "input": [
      "unichar = u'\\xA0\\xAC'"
     ],
     "language": "python",
     "metadata": {},
     "outputs": [],
     "prompt_number": 33
    },
    {
     "cell_type": "code",
     "collapsed": false,
     "input": [
      "print unichar.encode('utf-8')"
     ],
     "language": "python",
     "metadata": {},
     "outputs": [
      {
       "output_type": "stream",
       "stream": "stdout",
       "text": [
        "\u00a0\u00ac\n"
       ]
      }
     ],
     "prompt_number": 34
    },
    {
     "cell_type": "code",
     "collapsed": false,
     "input": [
      "import time"
     ],
     "language": "python",
     "metadata": {},
     "outputs": [],
     "prompt_number": 37
    },
    {
     "cell_type": "code",
     "collapsed": false,
     "input": [
      "time.time()"
     ],
     "language": "python",
     "metadata": {},
     "outputs": [
      {
       "output_type": "pyout",
       "prompt_number": 38,
       "text": [
        "1360713074.7321801"
       ]
      }
     ],
     "prompt_number": 38
    },
    {
     "cell_type": "code",
     "collapsed": false,
     "input": [
      "time.strftime(\"%A, %b %d %Y, %I:%M %p\",time.localtime())"
     ],
     "language": "python",
     "metadata": {},
     "outputs": [
      {
       "output_type": "pyout",
       "prompt_number": 45,
       "text": [
        "'Tuesday, Feb 12 2013, 06:59 PM'"
       ]
      }
     ],
     "prompt_number": 45
    },
    {
     "cell_type": "code",
     "collapsed": false,
     "input": [
      "time.localtime()"
     ],
     "language": "python",
     "metadata": {},
     "outputs": [
      {
       "output_type": "pyout",
       "prompt_number": 42,
       "text": [
        "time.struct_time(tm_year=2013, tm_mon=2, tm_mday=12, tm_hour=18, tm_min=54, tm_sec=17, tm_wday=1, tm_yday=43, tm_isdst=0)"
       ]
      }
     ],
     "prompt_number": 42
    },
    {
     "cell_type": "code",
     "collapsed": false,
     "input": [
      "i_think_this_is_time = \"Feb 12, 1988\"\n",
      "i_think_this_is_time = \"February 12, 2012 18:59\"\n",
      "\n",
      "try:\n",
      "    thisdate = time.strptime(i_think_this_is_time,\"%b %d, %Y\")\n",
      "except ValueError:\n",
      "    print i_think_this_is_time + \" is not a valid date\"\n",
      "else:\n",
      "    print thisdate"
     ],
     "language": "python",
     "metadata": {},
     "outputs": [
      {
       "output_type": "stream",
       "stream": "stdout",
       "text": [
        "February 12, 2012 18:59 is not a valid date\n"
       ]
      }
     ],
     "prompt_number": 50
    },
    {
     "cell_type": "code",
     "collapsed": false,
     "input": [
      "import re"
     ],
     "language": "python",
     "metadata": {},
     "outputs": [],
     "prompt_number": 51
    },
    {
     "cell_type": "code",
     "collapsed": false,
     "input": [
      "phone_string = \"^\\+?[0-9]?\" # country code\n",
      "phone_string += \"[-\\. ]?\" # delimiter\n",
      "phone_string += \"(\\(?[0-9]{3}\\)?)?\"  # area code\n",
      "phone_string += \"[-\\. ]?\" # delimiter\n",
      "phone_string += \"[2-9][0-9]{2}\" # prefix\n",
      "phone_string += \"[-\\. ]?\" # delimiter\n",
      "phone_string += \"[0-9]{4}$\" # final four\n",
      "print phone_string\n",
      "phone = re.compile(phone_string)"
     ],
     "language": "python",
     "metadata": {},
     "outputs": [
      {
       "output_type": "stream",
       "stream": "stdout",
       "text": [
        "^\\+?[0-9]?[-\\. ]?(\\(?[0-9]{3}\\)?)?[-\\. ]?[2-9][0-9]{2}[-\\. ]?[0-9]{4}$\n"
       ]
      }
     ],
     "prompt_number": 87
    },
    {
     "cell_type": "code",
     "collapsed": false,
     "input": [
      "fh = open('testPhones.txt','r')\n",
      "phones = fh.readlines()\n",
      "for ph in phones: \n",
      "    if phone.findall(ph):\n",
      "        print \"correct: %s\" % ph\n",
      "    else:\n",
      "        print \"incorrect: %s\" % ph"
     ],
     "language": "python",
     "metadata": {},
     "outputs": [
      {
       "output_type": "stream",
       "stream": "stdout",
       "text": [
        "incorrect: Correct:\n",
        "\n",
        "correct: (888) 331-4567\n",
        "\n",
        "correct: (888) 331 4567\n",
        "\n",
        "correct: 888-331-4567\n",
        "\n",
        "correct: 888.331.4567\n",
        "\n",
        "correct: 8883314567\n",
        "\n",
        "correct: +18883314567\n",
        "\n",
        "correct: +1(888)3314567\n",
        "\n",
        "correct: 321-4567\n",
        "\n",
        "correct: 312.4567\n",
        "\n",
        "correct: 3124567\n",
        "\n",
        "correct: 18003314567\n",
        "\n",
        "correct: 1(800)331-4567\n",
        "\n",
        "correct: 1 (800) 331-4567\n",
        "\n",
        "correct: 1-800-331-4567\n",
        "\n",
        "incorrect: \n",
        "\n",
        "incorrect: Incorrect:\n",
        "\n",
        "incorrect: 12345.67\n",
        "\n",
        "incorrect: 1,234,567\n",
        "\n",
        "incorrect: My phone number\n",
        "\n",
        "incorrect: +23 2234 5678\n",
        "\n",
        "incorrect: (abc) xxx-xxxx\n",
        "\n",
        "incorrect: 1234567.89\n",
        "\n",
        "incorrect: 123-. ---4567\n",
        "\n",
        "incorrect: 123-4567\n",
        "\n"
       ]
      }
     ],
     "prompt_number": 90
    },
    {
     "cell_type": "code",
     "collapsed": false,
     "input": [],
     "language": "python",
     "metadata": {},
     "outputs": []
    }
   ],
   "metadata": {}
  }
 ]
}