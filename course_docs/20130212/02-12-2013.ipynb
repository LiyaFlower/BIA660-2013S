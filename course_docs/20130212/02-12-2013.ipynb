{
 "metadata": {
  "name": "02-12-2013"
 },
 "nbformat": 3,
 "nbformat_minor": 0,
 "worksheets": [
  {
   "cells": [
    {
     "cell_type": "code",
     "collapsed": false,
     "input": [
      "thisisanumber = 5"
     ],
     "language": "python",
     "metadata": {},
     "outputs": [],
     "prompt_number": 16
    },
    {
     "cell_type": "code",
     "collapsed": false,
     "input": [
      "isinstance(thisisanumber, (int,float))"
     ],
     "language": "python",
     "metadata": {},
     "outputs": [
      {
       "output_type": "pyout",
       "prompt_number": 17,
       "text": [
        "True"
       ]
      }
     ],
     "prompt_number": 17
    },
    {
     "cell_type": "code",
     "collapsed": false,
     "input": [
      "thisisacharacter ='a'"
     ],
     "language": "python",
     "metadata": {},
     "outputs": [],
     "prompt_number": 10
    },
    {
     "cell_type": "code",
     "collapsed": false,
     "input": [
      "isinstance(thisisacharacter, (int,str))"
     ],
     "language": "python",
     "metadata": {},
     "outputs": [
      {
       "output_type": "pyout",
       "prompt_number": 18,
       "text": [
        "True"
       ]
      }
     ],
     "prompt_number": 18
    },
    {
     "cell_type": "code",
     "collapsed": false,
     "input": [
      "lat, lon = -143.234543, 90.2345234"
     ],
     "language": "python",
     "metadata": {},
     "outputs": [],
     "prompt_number": 22
    },
    {
     "cell_type": "code",
     "collapsed": false,
     "input": [
      "if lat < -90 or lat > 90 or lon < -180 or lon > 180:\n",
      "    print \"invalid location: %f, %f\" % (lat,lon)"
     ],
     "language": "python",
     "metadata": {},
     "outputs": [
      {
       "output_type": "stream",
       "stream": "stdout",
       "text": [
        "invalid location: -143.234543, 90.234523\n"
       ]
      }
     ],
     "prompt_number": 25
    },
    {
     "cell_type": "code",
     "collapsed": false,
     "input": [
      "assert(lat > -90 and lat < 90)"
     ],
     "language": "python",
     "metadata": {},
     "outputs": [
      {
       "ename": "AssertionError",
       "evalue": "",
       "output_type": "pyerr",
       "traceback": [
        "\u001b[0;31m---------------------------------------------------------------------------\u001b[0m\n\u001b[0;31mAssertionError\u001b[0m                            Traceback (most recent call last)",
        "\u001b[0;32m<ipython-input-24-2f781f40945b>\u001b[0m in \u001b[0;36m<module>\u001b[0;34m()\u001b[0m\n\u001b[0;32m----> 1\u001b[0;31m \u001b[0;32massert\u001b[0m\u001b[0;34m(\u001b[0m\u001b[0mlat\u001b[0m \u001b[0;34m>\u001b[0m \u001b[0;34m-\u001b[0m\u001b[0;36m90\u001b[0m \u001b[0;32mand\u001b[0m \u001b[0mlat\u001b[0m \u001b[0;34m<\u001b[0m \u001b[0;36m90\u001b[0m\u001b[0;34m)\u001b[0m\u001b[0;34m\u001b[0m\u001b[0m\n\u001b[0m",
        "\u001b[0;31mAssertionError\u001b[0m: "
       ]
      }
     ],
     "prompt_number": 24
    },
    {
     "cell_type": "code",
     "collapsed": false,
     "input": [
      "print(u'\\u2652\\u267A\\u2661')"
     ],
     "language": "python",
     "metadata": {},
     "outputs": [
      {
       "output_type": "stream",
       "stream": "stdout",
       "text": [
        "\u2652\u267a\u2661\n"
       ]
      }
     ],
     "prompt_number": 116
    },
    {
     "cell_type": "code",
     "collapsed": false,
     "input": [
      "unichar = u'\\u2652\\u267A\\u2661'"
     ],
     "language": "python",
     "metadata": {},
     "outputs": [],
     "prompt_number": 117
    },
    {
     "cell_type": "code",
     "collapsed": false,
     "input": [
      "print unichar + \"test\""
     ],
     "language": "python",
     "metadata": {},
     "outputs": [
      {
       "output_type": "stream",
       "stream": "stdout",
       "text": [
        "\u2652\u267a\u2661test\n"
       ]
      }
     ],
     "prompt_number": 119
    },
    {
     "cell_type": "code",
     "collapsed": false,
     "input": [
      "import time"
     ],
     "language": "python",
     "metadata": {},
     "outputs": [],
     "prompt_number": 37
    },
    {
     "cell_type": "code",
     "collapsed": false,
     "input": [
      "time.time()"
     ],
     "language": "python",
     "metadata": {},
     "outputs": [
      {
       "output_type": "pyout",
       "prompt_number": 38,
       "text": [
        "1360713074.7321801"
       ]
      }
     ],
     "prompt_number": 38
    },
    {
     "cell_type": "code",
     "collapsed": false,
     "input": [
      "time.strftime(\"%A, %b %d %Y, %I:%M %p\",time.localtime())"
     ],
     "language": "python",
     "metadata": {},
     "outputs": [
      {
       "output_type": "pyout",
       "prompt_number": 45,
       "text": [
        "'Tuesday, Feb 12 2013, 06:59 PM'"
       ]
      }
     ],
     "prompt_number": 45
    },
    {
     "cell_type": "code",
     "collapsed": false,
     "input": [
      "time.localtime()"
     ],
     "language": "python",
     "metadata": {},
     "outputs": [
      {
       "output_type": "pyout",
       "prompt_number": 42,
       "text": [
        "time.struct_time(tm_year=2013, tm_mon=2, tm_mday=12, tm_hour=18, tm_min=54, tm_sec=17, tm_wday=1, tm_yday=43, tm_isdst=0)"
       ]
      }
     ],
     "prompt_number": 42
    },
    {
     "cell_type": "code",
     "collapsed": false,
     "input": [
      "i_think_this_is_time = \"Feb 12, 1988\"\n",
      "i_think_this_is_time = \"February 12, 2012 18:59\"\n",
      "\n",
      "try:\n",
      "    thisdate = time.strptime(i_think_this_is_time,\"%b %d, %Y\")\n",
      "except ValueError:\n",
      "    print i_think_this_is_time + \" is not a valid date\"\n",
      "else:\n",
      "    print thisdate"
     ],
     "language": "python",
     "metadata": {},
     "outputs": [
      {
       "output_type": "stream",
       "stream": "stdout",
       "text": [
        "February 12, 2012 18:59 is not a valid date\n"
       ]
      }
     ],
     "prompt_number": 50
    },
    {
     "cell_type": "code",
     "collapsed": false,
     "input": [
      "import re"
     ],
     "language": "python",
     "metadata": {},
     "outputs": [],
     "prompt_number": 51
    },
    {
     "cell_type": "code",
     "collapsed": false,
     "input": [
      "phone_string = \"^\\+?[0-9]?\" # country code\n",
      "phone_string += \"[-\\. ]?\" # delimiter\n",
      "phone_string += \"(\\(?\" # optional enclosure\n",
      "phone_string += \"(?P<area>[0-9]{3})\"\n",
      "phone_string += \"\\)?)?\"  # area code\n",
      "phone_string += \"[-\\. ]?\" # delimiter\n",
      "phone_string += \"(?P<prefix>[2-9][0-9]{2})\" # prefix\n",
      "phone_string += \"[-\\. ]?\" # delimiter\n",
      "phone_string += \"(?P<final>[0-9]{4})$\" # final four\n",
      "print phone_string\n",
      "phone = re.compile(phone_string)"
     ],
     "language": "python",
     "metadata": {},
     "outputs": [
      {
       "output_type": "stream",
       "stream": "stdout",
       "text": [
        "^\\+?[0-9]?[-\\. ]?(\\(?(?P<area>[0-9]{3})\\)?)?[-\\. ]?(?P<prefix>[2-9][0-9]{2})[-\\. ]?(?P<final>[0-9]{4})$\n"
       ]
      }
     ],
     "prompt_number": 108
    },
    {
     "cell_type": "code",
     "collapsed": false,
     "input": [
      "fh = open('testPhones.txt','r')\n",
      "phones = fh.readlines()\n",
      "for ph in phones: \n",
      "    m = phone.match(ph)\n",
      "    if m:\n",
      "        d = m.groupdict()\n",
      "        #print \"area: %s, prefix: %s, final: %s\" % (d['area'],d['prefix'],d['final'])\n",
      "        if d['area']:\n",
      "            print \"%s-%s-%s\" % (d['area'],d['prefix'],d['final'])\n",
      "        else:\n",
      "            print \"%s-%s\" % (d['prefix'],d['final'])\n",
      "    else:\n",
      "        print \"incorrect: %s\" % ph"
     ],
     "language": "python",
     "metadata": {},
     "outputs": [
      {
       "output_type": "stream",
       "stream": "stdout",
       "text": [
        "incorrect: Correct:\n",
        "\n",
        "888-331-4567\n",
        "888-331-4567\n",
        "888-331-4567\n",
        "888-331-4567\n",
        "888-331-4567\n",
        "888-331-4567\n",
        "888-331-4567\n",
        "321-4567\n",
        "312-4567\n",
        "312-4567\n",
        "800-331-4567\n",
        "800-331-4567\n",
        "800-331-4567\n",
        "800-331-4567\n",
        "incorrect: \n",
        "\n",
        "incorrect: Incorrect:\n",
        "\n",
        "incorrect: 12345.67\n",
        "\n",
        "incorrect: 1,234,567\n",
        "\n",
        "incorrect: My phone number\n",
        "\n",
        "incorrect: +23 2234 5678\n",
        "\n",
        "incorrect: (abc) xxx-xxxx\n",
        "\n",
        "incorrect: 1234567.89\n",
        "\n",
        "incorrect: 123-. ---4567\n",
        "\n",
        "incorrect: 123-4567\n",
        "\n"
       ]
      }
     ],
     "prompt_number": 110
    },
    {
     "cell_type": "code",
     "collapsed": false,
     "input": [
      "# path_to_file = \"C:\\Users\\path\\to\\file\"\n",
      "#fh = open(path_to_file+'testPhones.txt','r')\n",
      "fh = open('testPhones.txt','r')\n",
      "phones = fh.readlines()\n",
      "for ph in phones: \n",
      "    if phone.findall(ph):\n",
      "        print \"correct: %s\" % ph\n",
      "    else:\n",
      "        print \"incorrect: %s\" % ph"
     ],
     "language": "python",
     "metadata": {},
     "outputs": []
    },
    {
     "cell_type": "code",
     "collapsed": false,
     "input": [
      "import numpy"
     ],
     "language": "python",
     "metadata": {},
     "outputs": [],
     "prompt_number": 121
    },
    {
     "cell_type": "code",
     "collapsed": false,
     "input": [
      "print(u'\\u1201\\u1261')"
     ],
     "language": "python",
     "metadata": {},
     "outputs": [
      {
       "output_type": "stream",
       "stream": "stdout",
       "text": [
        "\u1201\u1261\n"
       ]
      }
     ],
     "prompt_number": 125
    },
    {
     "cell_type": "code",
     "collapsed": false,
     "input": [
      "import twitter\n",
      "\n",
      "api = twitter.Api(consumer_secret='xr0nXTJytnMdN7XIsoUIGNErJ5QuPJYv92VfBJnX8XI',consumer_key='HrI9pkJWwsdTL1jv9fDmg',access_token_key='19202628-uzTh3h9JB6pM07JaB4fqA4oHnWffsd1blEwApA',access_token_secret='bpP3m3anqew88u3MGAWPqFGElUv5RG4zFkEUDkAD2A')"
     ],
     "language": "python",
     "metadata": {},
     "outputs": [],
     "prompt_number": 126
    },
    {
     "cell_type": "code",
     "collapsed": false,
     "input": [
      "someTweets = api.GetSearch('starbucks')"
     ],
     "language": "python",
     "metadata": {},
     "outputs": [],
     "prompt_number": 135
    },
    {
     "cell_type": "code",
     "collapsed": false,
     "input": [
      "for tweet in someTweets:\n",
      "    print \"User: %s\\nTweet: %s\\nClient: %s\\n\\n\" % (tweet.user.screen_name,tweet.text,tweet.geo)"
     ],
     "language": "python",
     "metadata": {},
     "outputs": [
      {
       "output_type": "stream",
       "stream": "stdout",
       "text": [
        "User: MayarAbaza\n",
        "Tweet: RT @reIatable: Starbucks is always a good idea.\n",
        "Client: None\n",
        "\n",
        "\n",
        "User: kokokomaal\n",
        "Tweet: RT @TheTumblrPosts: It's 2013 and Starbucks doesn't deliver why.\n",
        "Client: None\n",
        "\n",
        "\n",
        "User: kimfasa\n",
        "Tweet: RT @elisaaajanelle: If someone brings me Starbucks to school tomorrow I'll love you forever\ud83d\ude0d\ud83d\udc8b\ud83d\udc95\ud83d\udc9c\n",
        "Client: None\n",
        "\n",
        "\n",
        "User: CammyCamGordon\n",
        "Tweet: RT @UberFacts: There are nearly twice as many marijuana dispensaries in Colorado than there are Starbucks.\n",
        "Client: None\n",
        "\n",
        "\n",
        "User: maryhath23\n",
        "Tweet: This Starbucks is going to give me life\n",
        "Client: None\n",
        "\n",
        "\n",
        "User: thisismemadison\n",
        "Tweet: RT @ayyyeitsryan: #mentionperfection @Starbucks\n",
        "Client: None\n",
        "\n",
        "\n",
        "User: ivabro_jsc\n",
        "Tweet: I'm at Starbucks (Miguel Hidalgo, DF) w/ 2 others http://t.co/VQCF7hhH\n",
        "Client: {u'type': u'Point', u'coordinates': [19.441327000000001, -99.204209000000006]}\n",
        "\n",
        "\n",
        "User: AlyssaBellus\n",
        "Tweet: \u201c@UberFacts: There are nearly twice as many marijuana dispensaries in Colorado than there are Starbucks.\u201d @maxfenter\n",
        "Client: None\n",
        "\n",
        "\n",
        "User: IamAaronMartin1\n",
        "Tweet: @Shark_Clark13 you just got to know which Starbucks cup is yours and you wont drink other peoples drinks (; lmao\n",
        "Client: None\n",
        "\n",
        "\n",
        "User: ErinW128\n",
        "Tweet: \u201c@aubriesauce: I'll say it. Dunkin Donuts &gt; Starbucks.\u201d True story.\n",
        "Client: {u'type': u'Point', u'coordinates': [39.251558000000003, -76.668170000000003]}\n",
        "\n",
        "\n",
        "User: marie61695\n",
        "Tweet: RT @LordPlaza: I wish I was at Starbucks\n",
        "Client: None\n",
        "\n",
        "\n",
        "User: berenischaidez\n",
        "Tweet: Starbucks is what I need right now \ud83d\ude0f\n",
        "Client: None\n",
        "\n",
        "\n",
        "User: katelyn_ruhren\n",
        "Tweet: Someone should get me Starbucks for Valentines Day \u263a\ud83d\ude01\u2615\n",
        "Client: None\n",
        "\n",
        "\n",
        "User: frainloubar\n",
        "Tweet: RT @UberFacts: There are nearly twice as many marijuana dispensaries in Colorado than there are Starbucks.\n",
        "Client: None\n",
        "\n",
        "\n",
        "User: kaylashaw_13\n",
        "Tweet: RT @NotesForGirlz: Victoria's Secret needs to be my bedroom. Starbucks needs to be my kitchen. Forever 21 needs to be my closet.\n",
        "Client: None\n",
        "\n",
        "\n"
       ]
      }
     ],
     "prompt_number": 139
    },
    {
     "cell_type": "code",
     "collapsed": false,
     "input": [],
     "language": "python",
     "metadata": {},
     "outputs": []
    }
   ],
   "metadata": {}
  }
 ]
}