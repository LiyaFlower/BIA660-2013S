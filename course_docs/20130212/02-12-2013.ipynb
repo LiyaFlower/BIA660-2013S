{
 "metadata": {
  "name": "02-12-2013"
 },
 "nbformat": 3,
 "nbformat_minor": 0,
 "worksheets": [
  {
   "cells": [
    {
     "cell_type": "code",
     "collapsed": false,
     "input": [
      "\"\"\" \n",
      "For mac users:\n",
      "\n",
      "http://bit.ly/157Ct2P\n",
      "\n",
      "\"\"\"\n",
      "\n"
     ],
     "language": "python",
     "metadata": {},
     "outputs": []
    }
   ],
   "metadata": {}
  }
 ]
}