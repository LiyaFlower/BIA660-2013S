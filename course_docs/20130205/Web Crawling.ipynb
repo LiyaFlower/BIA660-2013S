{
 "metadata": {
  "name": "Web Crawling"
 },
 "nbformat": 3,
 "nbformat_minor": 0,
 "worksheets": [
  {
   "cells": [
    {
     "cell_type": "code",
     "collapsed": false,
     "input": [
      "from bs4 import BeautifulSoup\n",
      "import urllib2"
     ],
     "language": "python",
     "metadata": {},
     "outputs": [],
     "prompt_number": 2
    },
    {
     "cell_type": "code",
     "collapsed": false,
     "input": [
      "pubs_page = urllib2.urlopen(\"http://smallsocialsystems.com/cv.html\")"
     ],
     "language": "python",
     "metadata": {},
     "outputs": [],
     "prompt_number": 9
    },
    {
     "cell_type": "code",
     "collapsed": false,
     "input": [
      "pubs_text = pubs_page.read()"
     ],
     "language": "python",
     "metadata": {},
     "outputs": [],
     "prompt_number": 10
    },
    {
     "cell_type": "code",
     "collapsed": false,
     "input": [
      "pubs = BeautifulSoup(pubs_text)"
     ],
     "language": "python",
     "metadata": {},
     "outputs": [],
     "prompt_number": 11
    },
    {
     "cell_type": "code",
     "collapsed": false,
     "input": [
      "pubs.title"
     ],
     "language": "python",
     "metadata": {},
     "outputs": [
      {
       "output_type": "pyout",
       "prompt_number": 12,
       "text": [
        "<title>Small Social Systems</title>"
       ]
      }
     ],
     "prompt_number": 12
    },
    {
     "cell_type": "code",
     "collapsed": false,
     "input": [
      "pubs.head"
     ],
     "language": "python",
     "metadata": {},
     "outputs": [
      {
       "output_type": "pyout",
       "prompt_number": 13,
       "text": [
        "<head>\n",
        "<title>Small Social Systems</title>\n",
        "<style type=\"text/css\"> \n",
        " \t\t@import \"./homepage.css\";\n",
        "\t</style>\n",
        "</head>"
       ]
      }
     ],
     "prompt_number": 13
    },
    {
     "cell_type": "code",
     "collapsed": false,
     "input": [
      "pubs.findAll('div',{'class':'buttonwrapper'})"
     ],
     "language": "python",
     "metadata": {},
     "outputs": [
      {
       "output_type": "pyout",
       "prompt_number": 16,
       "text": [
        "[<div class=\"buttonwrapper\" style=\"padding-top:0.8em\"><a href=\"./index.html\" id=\"home\">small social systems</a></div>,\n",
        " <div class=\"buttonwrapper\"><a class=\"smallbutton\" href=\"./about.html\" id=\"aboutbutton\"><span>About</span></a></div>,\n",
        " <div class=\"buttonwrapper\"><a class=\"smallbutton\" href=\"./cv.html\" id=\"cvbutton\"><span>Publications</span></a></div>,\n",
        " <div class=\"buttonwrapper\"><a class=\"smallbutton\" href=\"./research.html\" id=\"researchbutton\"><span>Research</span></a></div>,\n",
        " <div class=\"buttonwrapper\"><a class=\"smallbutton\" href=\"./blog/index.php\" id=\"blogbutton\"><span>Blog</span></a></div>]"
       ]
      }
     ],
     "prompt_number": 16
    },
    {
     "cell_type": "code",
     "collapsed": false,
     "input": [
      "pubs.findAll('a',{'class':'smallbutton'})"
     ],
     "language": "python",
     "metadata": {},
     "outputs": [
      {
       "output_type": "pyout",
       "prompt_number": 17,
       "text": [
        "[<a class=\"smallbutton\" href=\"./about.html\" id=\"aboutbutton\"><span>About</span></a>,\n",
        " <a class=\"smallbutton\" href=\"./cv.html\" id=\"cvbutton\"><span>Publications</span></a>,\n",
        " <a class=\"smallbutton\" href=\"./research.html\" id=\"researchbutton\"><span>Research</span></a>,\n",
        " <a class=\"smallbutton\" href=\"./blog/index.php\" id=\"blogbutton\"><span>Blog</span></a>]"
       ]
      }
     ],
     "prompt_number": 17
    },
    {
     "cell_type": "code",
     "collapsed": false,
     "input": [
      "for link in pubs.findAll('a',{'class':'smallbutton'}):\n",
      "    print link.string + \": \" + link['href']"
     ],
     "language": "python",
     "metadata": {},
     "outputs": [
      {
       "output_type": "stream",
       "stream": "stdout",
       "text": [
        "About: ./about.html\n",
        "Publications: ./cv.html\n",
        "Research: ./research.html\n",
        "Blog: ./blog/index.php\n"
       ]
      }
     ],
     "prompt_number": 21
    },
    {
     "cell_type": "code",
     "collapsed": false,
     "input": [
      "for link in pubs.findAll('a'):\n",
      "    if link.string=='pdf':\n",
      "        print link['href']"
     ],
     "language": "python",
     "metadata": {},
     "outputs": [
      {
       "output_type": "stream",
       "stream": "stdout",
       "text": [
        "http://arxiv.org/pdf/1203.2268v1.pdf\n",
        "./papers/ConventionsICWSM.pdf\n",
        "http://www.springerlink.com/content/5236n965288116v8/fulltext.pdf\n",
        "http://www.pnas.org/content/109/3/764.full.pdf\n",
        "./papers/honesty.pdf\n",
        "./papers/wu_www2011.pdf\n",
        "./papers/wsdm333w-bakshy.pdf\n",
        "./papers/friendsense.pdf\n",
        "./papers/thresholds.pdf\n",
        "./papers/AMT_HComp_v8.pdf\n",
        "./papers/MasonEtAl2008.pdf\n",
        "./papers/quellerMason2008.pdf\n",
        "./papers/MasonConreySmith2007.pdf\n",
        "./papers/QuellerSchellMason2006.pdf\n",
        "./papers/collectivesearch.pdf\n"
       ]
      }
     ],
     "prompt_number": 25
    },
    {
     "cell_type": "code",
     "collapsed": false,
     "input": [
      "for listel in pubs.findAll('li'):\n",
      "    coauthor = listel.find('a',{'class':'coauthor'})\n",
      "    if coauthor != None:\n",
      "        print coauthor['href']"
     ],
     "language": "python",
     "metadata": {},
     "outputs": [
      {
       "output_type": "stream",
       "stream": "stdout",
       "text": [
        "http://tuvalu.santafe.edu/~aaronc/\n",
        "http://www.mpi-sws.org/~farshad/\n",
        "http://www.mpi-sws.org/~farshad/\n",
        "http://www.sidsuri.com/\n",
        "http://en.wikipedia.org/wiki/Duncan_J._Watts\n",
        "http://www.sidsuri.com/\n",
        "http://www.cs.cornell.edu/~sw475/\n",
        "http://www-personal.umich.edu/~ebakshy/ebakshy/Home.html\n",
        "http://www.cam.cornell.edu/~sharad/\n",
        "http://www.public.asu.edu/~mdechoud/\n",
        "http://en.wikipedia.org/wiki/Duncan_J._Watts\n",
        "http://www.cogs.indiana.edu/people/homepages/goldstone.html\n",
        "http://www.linkedin.com/pub/frederica-conrey/3/6b9/6b9\n",
        "http://cognitrn.psych.indiana.edu/\n"
       ]
      }
     ],
     "prompt_number": 71
    },
    {
     "cell_type": "code",
     "collapsed": false,
     "input": [
      "opener = urllib2.build_opener()\n",
      "opener.addheaders = [('User-agent', 'Mozilla/5.0')]\n",
      "pinfashion = opener.open(\"http://pinterest.com/all/?category=mens_fashion\")"
     ],
     "language": "python",
     "metadata": {},
     "outputs": [],
     "prompt_number": 37
    },
    {
     "cell_type": "code",
     "collapsed": false,
     "input": [
      "pinfash = pinfashion.read()"
     ],
     "language": "python",
     "metadata": {},
     "outputs": [],
     "prompt_number": 38
    },
    {
     "cell_type": "code",
     "collapsed": false,
     "input": [
      "pins = BeautifulSoup(pinfash)"
     ],
     "language": "python",
     "metadata": {},
     "outputs": [],
     "prompt_number": 40
    },
    {
     "cell_type": "code",
     "collapsed": false,
     "input": [
      "for pin in pins.findAll('a',{'class':'PinImage ImgLink'}):\n",
      "    print pin['href']"
     ],
     "language": "python",
     "metadata": {},
     "outputs": [
      {
       "output_type": "stream",
       "stream": "stdout",
       "text": [
        "/pin/148970700146216300/\n",
        "/pin/260786634644292558/\n",
        "/pin/402087072951083523/\n",
        "/pin/35114072065405126/\n",
        "/pin/382806037046314514/\n",
        "/pin/248894316878502368/\n",
        "/pin/248894316878512755/\n",
        "/pin/413627546996238519/\n",
        "/pin/52635889365004779/\n",
        "/pin/68257750574115442/\n",
        "/pin/367254544582868958/\n",
        "/pin/111041947034365184/\n",
        "/pin/502573639636396889/\n",
        "/pin/378372806163219260/\n",
        "/pin/68257750574043064/\n",
        "/pin/528187862517112164/\n",
        "/pin/15481192440037100/\n",
        "/pin/15481192440738539/\n",
        "/pin/246009198367325774/\n",
        "/pin/126945283218293897/\n",
        "/pin/126945283218497978/\n",
        "/pin/315040936403309548/\n",
        "/pin/221309769160375995/\n",
        "/pin/315040936403309554/\n",
        "/pin/315040936403309568/\n",
        "/pin/315040936403335803/\n",
        "/pin/33777065927424573/\n",
        "/pin/315040936403357801/\n",
        "/pin/125537908332901770/\n",
        "/pin/154740937168885527/\n",
        "/pin/79305643409280460/\n",
        "/pin/218002438184161287/\n",
        "/pin/99008891779520304/\n",
        "/pin/6262886954023772/\n",
        "/pin/120119515033477885/\n",
        "/pin/63613413458684504/\n",
        "/pin/56083957831757877/\n",
        "/pin/184999497165078291/\n",
        "/pin/184999497165053089/\n",
        "/pin/44613852529390099/\n",
        "/pin/180495897537772301/\n",
        "/pin/79305643409262318/\n",
        "/pin/30047522485561092/\n",
        "/pin/201465783302738886/\n",
        "/pin/186266134560200970/\n",
        "/pin/32440059787377524/\n",
        "/pin/77264949829380046/\n",
        "/pin/77264949829380043/\n",
        "/pin/43910165088937031/\n",
        "/pin/184788390932706300/\n"
       ]
      }
     ],
     "prompt_number": 44
    },
    {
     "cell_type": "code",
     "collapsed": false,
     "input": [
      "import twitter"
     ],
     "language": "python",
     "metadata": {},
     "outputs": [],
     "prompt_number": 46
    },
    {
     "cell_type": "code",
     "collapsed": false,
     "input": [
      "api = twitter.Api(consumer_secret='xr0nXTJytnMdN7XIsoUIGNErJ5QuPJYv92VfBJnX8XI',consumer_key='HrI9pkJWwsdTL1jv9fDmg',access_token_key='19202628-uzTh3h9JB6pM07JaB4fqA4oHnWffsd1blEwApA',access_token_secret='bpP3m3anqew88u3MGAWPqFGElUv5RG4zFkEUDkAD2A')"
     ],
     "language": "python",
     "metadata": {},
     "outputs": [],
     "prompt_number": 47
    },
    {
     "cell_type": "code",
     "collapsed": false,
     "input": [
      "print api.VerifyCredentials()"
     ],
     "language": "python",
     "metadata": {},
     "outputs": [
      {
       "output_type": "stream",
       "stream": "stdout",
       "text": [
        "{\"created_at\": \"Mon Jan 19 21:17:49 +0000 2009\", \"favourites_count\": 135, \"followers_count\": 414, \"friends_count\": 285, \"geo_enabled\": true, \"id\": 19202628, \"lang\": \"en\", \"listed_count\": 23, \"location\": \"brooklyn, ny\", \"name\": \"Winter Mason\", \"profile_background_color\": \"C6E2EE\", \"profile_background_tile\": false, \"profile_image_url\": \"http://a0.twimg.com/profile_images/2820996416/5cdddcba9eaee0880bb5d99c1e4e60cc_normal.jpeg\", \"profile_link_color\": \"1F98C7\", \"profile_sidebar_fill_color\": \"http://a0.twimg.com/profile_background_images/86750163/bg.gif\", \"profile_text_color\": \"663B12\", \"protected\": false, \"screen_name\": \"winteram\", \"status\": {\"created_at\": \"Tue Feb 05 18:28:56 +0000 2013\", \"favorited\": false, \"id\": 298860776503013376, \"retweet_count\": 1, \"retweeted\": true, \"retweeted_status\": {\"created_at\": \"Tue Feb 05 16:35:11 +0000 2013\", \"favorited\": false, \"id\": 298832149799387137, \"retweet_count\": 1, \"retweeted\": true, \"source\": \"<a href=\\\"http://bufferapp.com\\\" rel=\\\"nofollow\\\">Buffer</a>\", \"text\": \"#DreamJob: The Zooniverse is Hiring in Oxford - We've got a great software developer job going http://t.co/ysKDhAhY (via @arfon)\", \"truncated\": false}, \"source\": \"web\", \"text\": \"RT @PatrickMeier: #DreamJob: The Zooniverse is Hiring in Oxford - We've got a great software developer job going http://t.co/ysKDhAhY (v ...\", \"truncated\": false}, \"statuses_count\": 1882, \"time_zone\": \"Eastern Time (US & Canada)\", \"url\": \"http://smallsocialsystems.com\", \"utc_offset\": -18000}\n"
       ]
      }
     ],
     "prompt_number": 49
    },
    {
     "cell_type": "code",
     "collapsed": false,
     "input": [
      "statuses = api.GetUserTimeline()\n",
      "for status in statuses:\n",
      "    print status.text"
     ],
     "language": "python",
     "metadata": {},
     "outputs": [
      {
       "output_type": "stream",
       "stream": "stdout",
       "text": [
        "@seanjtaylor I assume you've seen this book, then? http://t.co/F1y8jL9c\n",
        "@johnmyleswhite @deaneckles @hardsci The theories are unable; the theorists are uninterested.\n",
        "@johnmyleswhite @deaneckles @hardsci \"..most social psych theories...are not quantitatively...able to generate point-predictions\" - Meehl\n",
        "@jeffbigham I was sure you meant this: http://t.co/uHVPvfnm\n",
        "@ChrisDiehl The reason I like it is that you can _see_ where the tip is, so if you pick the stylus up you can accurately put it down again\n",
        "@yvesalexandre @sinanaral I have two of those on my office door, \"Be vigilant...\" and \"Test statistics...\"\n",
        "@ChrisDiehl I *highly* recommend the Jot (I have the Pro) by Adonit: http://t.co/gbmhrBFC Many apps.. I use iAnnotate PDF and Penultimate.\n"
       ]
      }
     ],
     "prompt_number": 52
    },
    {
     "cell_type": "code",
     "collapsed": false,
     "input": [
      "friends = api.GetFriends()"
     ],
     "language": "python",
     "metadata": {},
     "outputs": [],
     "prompt_number": 53
    },
    {
     "cell_type": "code",
     "collapsed": false,
     "input": [
      "for friend in friends:\n",
      "    print friend.screen_name"
     ],
     "language": "python",
     "metadata": {},
     "outputs": [
      {
       "output_type": "stream",
       "stream": "stdout",
       "text": [
        "PatrickMeier\n",
        "Yoellem\n",
        "jugander\n",
        "JimiShan\n",
        "brendan642\n",
        "gpaolacci\n",
        "dabbish\n",
        "helenleelin\n",
        "KriegerSignals\n",
        "UncleRicoF3\n",
        "klakhani\n",
        "jehiah\n",
        "BigDataGal\n",
        "DJFridberg\n",
        "BobbiePoPS\n",
        "joedoestweets\n",
        "merrierm\n",
        "_pmkr\n",
        "techsoc\n",
        "AlexisSottile\n",
        "pamsgossiptrain\n",
        "codenameduchess\n",
        "paulesque\n",
        "Joypython\n",
        "deaneckles\n",
        "adamlaiacano\n",
        "kurtluther\n",
        "CrisisMappers\n",
        "siah\n",
        "jenpre\n",
        "marc_smith\n",
        "James_H_Fowler\n",
        "lintool\n",
        "jteevan\n",
        "politifact\n",
        "elad1\n",
        "icouzin\n",
        "noshir\n",
        "bkeegan\n",
        "hannawallach\n",
        "FahadAlayed\n",
        "Noleli\n",
        "CiaDeMartino\n",
        "caossnyc\n",
        "Farshadkt\n",
        "datagotham\n",
        "GroupID_Project\n",
        "ravik53\n",
        "Asaf1\n",
        "CompUrbanist\n",
        "stevenstrogatz\n",
        "danariely\n",
        "GroupIdentity\n",
        "chrishwiggins\n",
        "StephenAtHome\n",
        "johnbreslin\n",
        "juhi153\n",
        "jennthom\n",
        "arbesman\n",
        "seydaertekin\n",
        "redlog\n",
        "hyheng\n",
        "jeffbigham\n",
        "michael_nielsen\n",
        "wslasecki\n",
        "richardm_\n",
        "connormccabe\n",
        "finegameofnil\n",
        "cjhutto\n",
        "elizabethmdaly\n",
        "kgummadi\n",
        "RE_stevens\n",
        "fundinha\n",
        "danielequercia\n",
        "robertekraut\n",
        "OMGannaks\n",
        "STATSHULK\n",
        "bhuberman\n",
        "DataKind\n",
        "DanTGilbert\n",
        "mikedewar\n",
        "nikete\n",
        "MichaelRappa\n",
        "marinamiranda\n",
        "gegenhuber\n",
        "dhirajmurthy\n",
        "katrina_\n",
        "zittrain\n",
        "mizzao\n",
        "msbernst\n",
        "YBenkler\n",
        "benbendc\n",
        "mattlease\n",
        "amyxzh\n",
        "chirag_shah\n",
        "aaronclauset\n",
        "peretti\n",
        "statpumpkin\n",
        "amazonmturk\n",
        "jponnela\n"
       ]
      }
     ],
     "prompt_number": 62
    },
    {
     "cell_type": "code",
     "collapsed": false,
     "input": [
      "friendsof = api.GetFriends('PatrickMeier')"
     ],
     "language": "python",
     "metadata": {},
     "outputs": [],
     "prompt_number": 58
    },
    {
     "cell_type": "code",
     "collapsed": false,
     "input": [
      "for friend in friendsof:\n",
      "    print friend.screen_name"
     ],
     "language": "python",
     "metadata": {},
     "outputs": [
      {
       "output_type": "stream",
       "stream": "stdout",
       "text": [
        "io9\n",
        "gmapsmania\n",
        "AKamarck\n",
        "snurb_dot_info\n",
        "JeffSpeckAICP\n",
        "stevebuttry\n",
        "mhaklay\n",
        "UCL_ExCiteS\n",
        "diningindoha\n",
        "hiltondoha\n",
        "knightfdn\n",
        "lisang\n",
        "priyankacpathak\n",
        "NextBillion\n",
        "arfon\n",
        "chrislintott\n",
        "www2013rio\n",
        "OpenGovHub\n",
        "DGateway\n",
        "alyssapwright\n",
        "wharman\n",
        "Hermida\n",
        "rumorexpert\n",
        "kasshout\n",
        "bencolmery4\n",
        "ejcnet\n",
        "EmergencyVol\n",
        "HNTracker\n",
        "PyBossa\n",
        "TheRemarkabl_es\n",
        "emilyleldridge\n",
        "nashtysmans\n",
        "GetReadyPinas\n",
        "oiioxford\n",
        "floating_sheep\n",
        "CrisisSocMedia\n",
        "MIT_CSAIL\n",
        "Data4Dev\n",
        "hmason\n",
        "ingmarweber\n",
        "h4d20\n",
        "rakeshrajani\n",
        "QatarComputing\n",
        "shalek\n",
        "nabihasyed\n",
        "roisire\n",
        "HumAdGrp\n",
        "truthyatindiana\n",
        "nmaisonneuve\n",
        "MarsCuriosity\n",
        "googlepolitics\n",
        "Dropbox\n",
        "wildflyingpanda\n",
        "mattlease\n",
        "PiaErkinheimo\n",
        "TheFireTracker2\n",
        "sarahkendzior\n",
        "geoplace\n",
        "stevewiebedk\n",
        "RedCross\n",
        "khalidalbaih\n",
        "UNHCRInnovation\n",
        "datagotham\n",
        "dweinberger\n",
        "jay_ulfelder\n",
        "davenportsteve\n",
        "conneally\n",
        "acepilotkhan\n",
        "mufyd_me\n",
        "bilalr\n",
        "Techinasia\n",
        "SudanOptimist\n",
        "ReemKKhatib\n",
        "Flygirltwo\n",
        "NiemanReports\n",
        "ewa_zgrzywa\n",
        "CaitlinHowarth\n",
        "HansRosling\n",
        "timolue\n",
        "majeduk\n",
        "JeannineLemaire\n",
        "sirenus_net\n",
        "CrowdResults\n",
        "rossdawson\n",
        "qatarairways\n",
        "SpatialCollect\n",
        "PeopleBrowsr\n",
        "GeographicalMag\n",
        "Williamleaf\n",
        "MOI_QatarEn\n",
        "TQatar\n",
        "maggiemacy\n",
        "REACH_info\n",
        "TweetSmarter\n",
        "MeansofExchange\n",
        "epiccolorado\n",
        "TheEconomist\n",
        "infoasaid\n",
        "GeoIQ\n",
        "rodrigodavies\n"
       ]
      }
     ],
     "prompt_number": 63
    },
    {
     "cell_type": "code",
     "collapsed": false,
     "input": [
      "twlists = api.GetLists('winteram')"
     ],
     "language": "python",
     "metadata": {},
     "outputs": [],
     "prompt_number": 68
    },
    {
     "cell_type": "code",
     "collapsed": false,
     "input": [
      "print str(twlists)"
     ],
     "language": "python",
     "metadata": {},
     "outputs": [
      {
       "output_type": "stream",
       "stream": "stdout",
       "text": [
        "[<twitter.List object at 0x1f76290>]\n"
       ]
      }
     ],
     "prompt_number": 70
    },
    {
     "cell_type": "code",
     "collapsed": false,
     "input": [],
     "language": "python",
     "metadata": {},
     "outputs": [
      {
       "ename": "TypeError",
       "evalue": "<twitter.User object at 0x1f53150> is not JSON serializable",
       "output_type": "pyerr",
       "traceback": [
        "\u001b[0;31m---------------------------------------------------------------------------\u001b[0m\n\u001b[0;31mTypeError\u001b[0m                                 Traceback (most recent call last)",
        "\u001b[0;32m<ipython-input-67-d21ab40558ad>\u001b[0m in \u001b[0;36m<module>\u001b[0;34m()\u001b[0m\n\u001b[1;32m      1\u001b[0m \u001b[0;32mfor\u001b[0m \u001b[0mlitem\u001b[0m \u001b[0;32min\u001b[0m \u001b[0mlists\u001b[0m\u001b[0;34m:\u001b[0m\u001b[0;34m\u001b[0m\u001b[0m\n\u001b[0;32m----> 2\u001b[0;31m     \u001b[0;32mprint\u001b[0m \u001b[0mlitem\u001b[0m\u001b[0;34m\u001b[0m\u001b[0m\n\u001b[0m",
        "\u001b[0;32m/Library/Python/2.6/site-packages/python_twitter-0.8.2-py2.6.egg/twitter.pyc\u001b[0m in \u001b[0;36m__str__\u001b[0;34m(self)\u001b[0m\n\u001b[1;32m   1656\u001b[0m       \u001b[0mA\u001b[0m \u001b[0mstring\u001b[0m \u001b[0mrepresentation\u001b[0m \u001b[0mof\u001b[0m \u001b[0mthis\u001b[0m \u001b[0mtwitter\u001b[0m\u001b[0;34m.\u001b[0m\u001b[0mList\u001b[0m \u001b[0minstance\u001b[0m\u001b[0;34m.\u001b[0m\u001b[0;34m\u001b[0m\u001b[0m\n\u001b[1;32m   1657\u001b[0m     '''\n\u001b[0;32m-> 1658\u001b[0;31m     \u001b[0;32mreturn\u001b[0m \u001b[0mself\u001b[0m\u001b[0;34m.\u001b[0m\u001b[0mAsJsonString\u001b[0m\u001b[0;34m(\u001b[0m\u001b[0;34m)\u001b[0m\u001b[0;34m\u001b[0m\u001b[0m\n\u001b[0m\u001b[1;32m   1659\u001b[0m \u001b[0;34m\u001b[0m\u001b[0m\n\u001b[1;32m   1660\u001b[0m   \u001b[0;32mdef\u001b[0m \u001b[0mAsJsonString\u001b[0m\u001b[0;34m(\u001b[0m\u001b[0mself\u001b[0m\u001b[0;34m)\u001b[0m\u001b[0;34m:\u001b[0m\u001b[0;34m\u001b[0m\u001b[0m\n",
        "\u001b[0;32m/Library/Python/2.6/site-packages/python_twitter-0.8.2-py2.6.egg/twitter.pyc\u001b[0m in \u001b[0;36mAsJsonString\u001b[0;34m(self)\u001b[0m\n\u001b[1;32m   1664\u001b[0m       \u001b[0mA\u001b[0m \u001b[0mJSON\u001b[0m \u001b[0mstring\u001b[0m \u001b[0mrepresentation\u001b[0m \u001b[0mof\u001b[0m \u001b[0mthis\u001b[0m \u001b[0mtwitter\u001b[0m\u001b[0;34m.\u001b[0m\u001b[0mList\u001b[0m \u001b[0minstance\u001b[0m\u001b[0;34m\u001b[0m\u001b[0m\n\u001b[1;32m   1665\u001b[0m    '''\n\u001b[0;32m-> 1666\u001b[0;31m     \u001b[0;32mreturn\u001b[0m \u001b[0msimplejson\u001b[0m\u001b[0;34m.\u001b[0m\u001b[0mdumps\u001b[0m\u001b[0;34m(\u001b[0m\u001b[0mself\u001b[0m\u001b[0;34m.\u001b[0m\u001b[0mAsDict\u001b[0m\u001b[0;34m(\u001b[0m\u001b[0;34m)\u001b[0m\u001b[0;34m,\u001b[0m \u001b[0msort_keys\u001b[0m\u001b[0;34m=\u001b[0m\u001b[0mTrue\u001b[0m\u001b[0;34m)\u001b[0m\u001b[0;34m\u001b[0m\u001b[0m\n\u001b[0m\u001b[1;32m   1667\u001b[0m \u001b[0;34m\u001b[0m\u001b[0m\n\u001b[1;32m   1668\u001b[0m   \u001b[0;32mdef\u001b[0m \u001b[0mAsDict\u001b[0m\u001b[0;34m(\u001b[0m\u001b[0mself\u001b[0m\u001b[0;34m)\u001b[0m\u001b[0;34m:\u001b[0m\u001b[0;34m\u001b[0m\u001b[0m\n",
        "\u001b[0;32m/System/Library/Frameworks/Python.framework/Versions/2.6/lib/python2.6/json/__init__.pyc\u001b[0m in \u001b[0;36mdumps\u001b[0;34m(obj, skipkeys, ensure_ascii, check_circular, allow_nan, cls, indent, separators, encoding, default, **kw)\u001b[0m\n\u001b[1;32m    235\u001b[0m         \u001b[0mcheck_circular\u001b[0m\u001b[0;34m=\u001b[0m\u001b[0mcheck_circular\u001b[0m\u001b[0;34m,\u001b[0m \u001b[0mallow_nan\u001b[0m\u001b[0;34m=\u001b[0m\u001b[0mallow_nan\u001b[0m\u001b[0;34m,\u001b[0m \u001b[0mindent\u001b[0m\u001b[0;34m=\u001b[0m\u001b[0mindent\u001b[0m\u001b[0;34m,\u001b[0m\u001b[0;34m\u001b[0m\u001b[0m\n\u001b[1;32m    236\u001b[0m         \u001b[0mseparators\u001b[0m\u001b[0;34m=\u001b[0m\u001b[0mseparators\u001b[0m\u001b[0;34m,\u001b[0m \u001b[0mencoding\u001b[0m\u001b[0;34m=\u001b[0m\u001b[0mencoding\u001b[0m\u001b[0;34m,\u001b[0m \u001b[0mdefault\u001b[0m\u001b[0;34m=\u001b[0m\u001b[0mdefault\u001b[0m\u001b[0;34m,\u001b[0m\u001b[0;34m\u001b[0m\u001b[0m\n\u001b[0;32m--> 237\u001b[0;31m         **kw).encode(obj)\n\u001b[0m\u001b[1;32m    238\u001b[0m \u001b[0;34m\u001b[0m\u001b[0m\n\u001b[1;32m    239\u001b[0m \u001b[0;34m\u001b[0m\u001b[0m\n",
        "\u001b[0;32m/System/Library/Frameworks/Python.framework/Versions/2.6/lib/python2.6/json/encoder.pyc\u001b[0m in \u001b[0;36mencode\u001b[0;34m(self, o)\u001b[0m\n\u001b[1;32m    365\u001b[0m         \u001b[0;31m# exceptions aren't as detailed.  The list call should be roughly\u001b[0m\u001b[0;34m\u001b[0m\u001b[0;34m\u001b[0m\u001b[0m\n\u001b[1;32m    366\u001b[0m         \u001b[0;31m# equivalent to the PySequence_Fast that ''.join() would do.\u001b[0m\u001b[0;34m\u001b[0m\u001b[0;34m\u001b[0m\u001b[0m\n\u001b[0;32m--> 367\u001b[0;31m         \u001b[0mchunks\u001b[0m \u001b[0;34m=\u001b[0m \u001b[0mlist\u001b[0m\u001b[0;34m(\u001b[0m\u001b[0mself\u001b[0m\u001b[0;34m.\u001b[0m\u001b[0miterencode\u001b[0m\u001b[0;34m(\u001b[0m\u001b[0mo\u001b[0m\u001b[0;34m)\u001b[0m\u001b[0;34m)\u001b[0m\u001b[0;34m\u001b[0m\u001b[0m\n\u001b[0m\u001b[1;32m    368\u001b[0m         \u001b[0;32mreturn\u001b[0m \u001b[0;34m''\u001b[0m\u001b[0;34m.\u001b[0m\u001b[0mjoin\u001b[0m\u001b[0;34m(\u001b[0m\u001b[0mchunks\u001b[0m\u001b[0;34m)\u001b[0m\u001b[0;34m\u001b[0m\u001b[0m\n\u001b[1;32m    369\u001b[0m \u001b[0;34m\u001b[0m\u001b[0m\n",
        "\u001b[0;32m/System/Library/Frameworks/Python.framework/Versions/2.6/lib/python2.6/json/encoder.pyc\u001b[0m in \u001b[0;36m_iterencode\u001b[0;34m(self, o, markers)\u001b[0m\n\u001b[1;32m    307\u001b[0m                 \u001b[0;32myield\u001b[0m \u001b[0mchunk\u001b[0m\u001b[0;34m\u001b[0m\u001b[0m\n\u001b[1;32m    308\u001b[0m         \u001b[0;32melif\u001b[0m \u001b[0misinstance\u001b[0m\u001b[0;34m(\u001b[0m\u001b[0mo\u001b[0m\u001b[0;34m,\u001b[0m \u001b[0mdict\u001b[0m\u001b[0;34m)\u001b[0m\u001b[0;34m:\u001b[0m\u001b[0;34m\u001b[0m\u001b[0m\n\u001b[0;32m--> 309\u001b[0;31m             \u001b[0;32mfor\u001b[0m \u001b[0mchunk\u001b[0m \u001b[0;32min\u001b[0m \u001b[0mself\u001b[0m\u001b[0;34m.\u001b[0m\u001b[0m_iterencode_dict\u001b[0m\u001b[0;34m(\u001b[0m\u001b[0mo\u001b[0m\u001b[0;34m,\u001b[0m \u001b[0mmarkers\u001b[0m\u001b[0;34m)\u001b[0m\u001b[0;34m:\u001b[0m\u001b[0;34m\u001b[0m\u001b[0m\n\u001b[0m\u001b[1;32m    310\u001b[0m                 \u001b[0;32myield\u001b[0m \u001b[0mchunk\u001b[0m\u001b[0;34m\u001b[0m\u001b[0m\n\u001b[1;32m    311\u001b[0m         \u001b[0;32melse\u001b[0m\u001b[0;34m:\u001b[0m\u001b[0;34m\u001b[0m\u001b[0m\n",
        "\u001b[0;32m/System/Library/Frameworks/Python.framework/Versions/2.6/lib/python2.6/json/encoder.pyc\u001b[0m in \u001b[0;36m_iterencode_dict\u001b[0;34m(self, dct, markers)\u001b[0m\n\u001b[1;32m    273\u001b[0m             \u001b[0;32myield\u001b[0m \u001b[0mencoder\u001b[0m\u001b[0;34m(\u001b[0m\u001b[0mkey\u001b[0m\u001b[0;34m)\u001b[0m\u001b[0;34m\u001b[0m\u001b[0m\n\u001b[1;32m    274\u001b[0m             \u001b[0;32myield\u001b[0m \u001b[0mkey_separator\u001b[0m\u001b[0;34m\u001b[0m\u001b[0m\n\u001b[0;32m--> 275\u001b[0;31m             \u001b[0;32mfor\u001b[0m \u001b[0mchunk\u001b[0m \u001b[0;32min\u001b[0m \u001b[0mself\u001b[0m\u001b[0;34m.\u001b[0m\u001b[0m_iterencode\u001b[0m\u001b[0;34m(\u001b[0m\u001b[0mvalue\u001b[0m\u001b[0;34m,\u001b[0m \u001b[0mmarkers\u001b[0m\u001b[0;34m)\u001b[0m\u001b[0;34m:\u001b[0m\u001b[0;34m\u001b[0m\u001b[0m\n\u001b[0m\u001b[1;32m    276\u001b[0m                 \u001b[0;32myield\u001b[0m \u001b[0mchunk\u001b[0m\u001b[0;34m\u001b[0m\u001b[0m\n\u001b[1;32m    277\u001b[0m         \u001b[0;32mif\u001b[0m \u001b[0mnewline_indent\u001b[0m \u001b[0;32mis\u001b[0m \u001b[0;32mnot\u001b[0m \u001b[0mNone\u001b[0m\u001b[0;34m:\u001b[0m\u001b[0;34m\u001b[0m\u001b[0m\n",
        "\u001b[0;32m/System/Library/Frameworks/Python.framework/Versions/2.6/lib/python2.6/json/encoder.pyc\u001b[0m in \u001b[0;36m_iterencode\u001b[0;34m(self, o, markers)\u001b[0m\n\u001b[1;32m    315\u001b[0m                     \u001b[0;32mraise\u001b[0m \u001b[0mValueError\u001b[0m\u001b[0;34m(\u001b[0m\u001b[0;34m\"Circular reference detected\"\u001b[0m\u001b[0;34m)\u001b[0m\u001b[0;34m\u001b[0m\u001b[0m\n\u001b[1;32m    316\u001b[0m                 \u001b[0mmarkers\u001b[0m\u001b[0;34m[\u001b[0m\u001b[0mmarkerid\u001b[0m\u001b[0;34m]\u001b[0m \u001b[0;34m=\u001b[0m \u001b[0mo\u001b[0m\u001b[0;34m\u001b[0m\u001b[0m\n\u001b[0;32m--> 317\u001b[0;31m             \u001b[0;32mfor\u001b[0m \u001b[0mchunk\u001b[0m \u001b[0;32min\u001b[0m \u001b[0mself\u001b[0m\u001b[0;34m.\u001b[0m\u001b[0m_iterencode_default\u001b[0m\u001b[0;34m(\u001b[0m\u001b[0mo\u001b[0m\u001b[0;34m,\u001b[0m \u001b[0mmarkers\u001b[0m\u001b[0;34m)\u001b[0m\u001b[0;34m:\u001b[0m\u001b[0;34m\u001b[0m\u001b[0m\n\u001b[0m\u001b[1;32m    318\u001b[0m                 \u001b[0;32myield\u001b[0m \u001b[0mchunk\u001b[0m\u001b[0;34m\u001b[0m\u001b[0m\n\u001b[1;32m    319\u001b[0m             \u001b[0;32mif\u001b[0m \u001b[0mmarkers\u001b[0m \u001b[0;32mis\u001b[0m \u001b[0;32mnot\u001b[0m \u001b[0mNone\u001b[0m\u001b[0;34m:\u001b[0m\u001b[0;34m\u001b[0m\u001b[0m\n",
        "\u001b[0;32m/System/Library/Frameworks/Python.framework/Versions/2.6/lib/python2.6/json/encoder.pyc\u001b[0m in \u001b[0;36m_iterencode_default\u001b[0;34m(self, o, markers)\u001b[0m\n\u001b[1;32m    321\u001b[0m \u001b[0;34m\u001b[0m\u001b[0m\n\u001b[1;32m    322\u001b[0m     \u001b[0;32mdef\u001b[0m \u001b[0m_iterencode_default\u001b[0m\u001b[0;34m(\u001b[0m\u001b[0mself\u001b[0m\u001b[0;34m,\u001b[0m \u001b[0mo\u001b[0m\u001b[0;34m,\u001b[0m \u001b[0mmarkers\u001b[0m\u001b[0;34m=\u001b[0m\u001b[0mNone\u001b[0m\u001b[0;34m)\u001b[0m\u001b[0;34m:\u001b[0m\u001b[0;34m\u001b[0m\u001b[0m\n\u001b[0;32m--> 323\u001b[0;31m         \u001b[0mnewobj\u001b[0m \u001b[0;34m=\u001b[0m \u001b[0mself\u001b[0m\u001b[0;34m.\u001b[0m\u001b[0mdefault\u001b[0m\u001b[0;34m(\u001b[0m\u001b[0mo\u001b[0m\u001b[0;34m)\u001b[0m\u001b[0;34m\u001b[0m\u001b[0m\n\u001b[0m\u001b[1;32m    324\u001b[0m         \u001b[0;32mreturn\u001b[0m \u001b[0mself\u001b[0m\u001b[0;34m.\u001b[0m\u001b[0m_iterencode\u001b[0m\u001b[0;34m(\u001b[0m\u001b[0mnewobj\u001b[0m\u001b[0;34m,\u001b[0m \u001b[0mmarkers\u001b[0m\u001b[0;34m)\u001b[0m\u001b[0;34m\u001b[0m\u001b[0m\n\u001b[1;32m    325\u001b[0m \u001b[0;34m\u001b[0m\u001b[0m\n",
        "\u001b[0;32m/System/Library/Frameworks/Python.framework/Versions/2.6/lib/python2.6/json/encoder.pyc\u001b[0m in \u001b[0;36mdefault\u001b[0;34m(self, o)\u001b[0m\n\u001b[1;32m    342\u001b[0m \u001b[0;34m\u001b[0m\u001b[0m\n\u001b[1;32m    343\u001b[0m         \"\"\"\n\u001b[0;32m--> 344\u001b[0;31m         \u001b[0;32mraise\u001b[0m \u001b[0mTypeError\u001b[0m\u001b[0;34m(\u001b[0m\u001b[0mrepr\u001b[0m\u001b[0;34m(\u001b[0m\u001b[0mo\u001b[0m\u001b[0;34m)\u001b[0m \u001b[0;34m+\u001b[0m \u001b[0;34m\" is not JSON serializable\"\u001b[0m\u001b[0;34m)\u001b[0m\u001b[0;34m\u001b[0m\u001b[0m\n\u001b[0m\u001b[1;32m    345\u001b[0m \u001b[0;34m\u001b[0m\u001b[0m\n\u001b[1;32m    346\u001b[0m     \u001b[0;32mdef\u001b[0m \u001b[0mencode\u001b[0m\u001b[0;34m(\u001b[0m\u001b[0mself\u001b[0m\u001b[0;34m,\u001b[0m \u001b[0mo\u001b[0m\u001b[0;34m)\u001b[0m\u001b[0;34m:\u001b[0m\u001b[0;34m\u001b[0m\u001b[0m\n",
        "\u001b[0;31mTypeError\u001b[0m: <twitter.User object at 0x1f53150> is not JSON serializable"
       ]
      }
     ],
     "prompt_number": 67
    },
    {
     "cell_type": "code",
     "collapsed": false,
     "input": [
      "geopage = urllib2.urlopen('http://api.infochimps.com/social/demographics/us_census/topline/search?g.radius=1000&g.latitude=30.3&g.longitude=-97.75&apikey=api_test-W1cipwpcdu9Cbd9pmm8D4Cjc469')"
     ],
     "language": "python",
     "metadata": {},
     "outputs": [],
     "prompt_number": 72
    },
    {
     "cell_type": "code",
     "collapsed": false,
     "input": [
      "geocontent = geopage.read()"
     ],
     "language": "python",
     "metadata": {},
     "outputs": [],
     "prompt_number": 73
    },
    {
     "cell_type": "code",
     "collapsed": false,
     "input": [
      "import json"
     ],
     "language": "python",
     "metadata": {},
     "outputs": [],
     "prompt_number": 75
    },
    {
     "cell_type": "code",
     "collapsed": false,
     "input": [
      "geoobj = json.loads(geocontent)"
     ],
     "language": "python",
     "metadata": {},
     "outputs": [],
     "prompt_number": 76
    },
    {
     "cell_type": "code",
     "collapsed": false,
     "input": [
      "for point in geoobj['results']:\n",
      "    print point['coordinates']"
     ],
     "language": "python",
     "metadata": {},
     "outputs": [
      {
       "output_type": "stream",
       "stream": "stdout",
       "text": [
        "[-97.744463699999997, 30.307166599999999]\n",
        "[-97.746269499999997, 30.291992400000002]\n",
        "[-97.756445200000002, 30.298424000000001]\n",
        "[-97.755995999999996, 30.307182000000001]\n"
       ]
      }
     ],
     "prompt_number": 81
    },
    {
     "cell_type": "code",
     "collapsed": false,
     "input": [],
     "language": "python",
     "metadata": {},
     "outputs": []
    }
   ],
   "metadata": {}
  }
 ]
}