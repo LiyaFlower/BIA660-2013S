{
 "metadata": {
  "name": "Analysis & Viz"
 },
 "nbformat": 3,
 "nbformat_minor": 0,
 "worksheets": [
  {
   "cells": [
    {
     "cell_type": "code",
     "collapsed": true,
     "input": [
      "import numpy as np\n",
      "from scipy import stats\n",
      "import pandas as pd\n",
      "import statsmodels.api as sm\n",
      "from pylab import *\n",
      "import matplotlib.pyplot as plt\n",
      "import twitter\n",
      "import re"
     ],
     "language": "python",
     "metadata": {},
     "outputs": [],
     "prompt_number": 36
    },
    {
     "cell_type": "code",
     "collapsed": false,
     "input": [
      "api = twitter.Api(consumer_secret='xr0nXTJytnMdN7XIsoUIGNErJ5QuPJYv92VfBJnX8XI',consumer_key='HrI9pkJWwsdTL1jv9fDmg',access_token_key='19202628-uzTh3h9JB6pM07JaB4fqA4oHnWffsd1blEwApA',access_token_secret='bpP3m3anqew88u3MGAWPqFGElUv5RG4zFkEUDkAD2A')"
     ],
     "language": "python",
     "metadata": {},
     "outputs": [],
     "prompt_number": 37
    },
    {
     "cell_type": "code",
     "collapsed": false,
     "input": [
      "keywds = ['flight','airline','usair','united','delta','jetblue']"
     ],
     "language": "python",
     "metadata": {},
     "outputs": [],
     "prompt_number": 38
    },
    {
     "cell_type": "code",
     "collapsed": false,
     "input": [
      "posfh = open('goodFlight.txt','r')\n",
      "positive_words = [line.strip() for line in posfh]\n",
      "negfh = open('badFlight.txt','r')\n",
      "negative_words = [line.strip() for line in negfh]"
     ],
     "language": "python",
     "metadata": {},
     "outputs": [],
     "prompt_number": 43
    },
    {
     "cell_type": "code",
     "collapsed": false,
     "input": [
      "negative_words"
     ],
     "language": "python",
     "metadata": {},
     "outputs": [
      {
       "output_type": "pyout",
       "prompt_number": 44,
       "text": [
        "['hate',\n",
        " 'bad',\n",
        " 'terrible',\n",
        " 'awful',\n",
        " 'horrible',\n",
        " 'worst',\n",
        " 'delay',\n",
        " 'uncomfortable',\n",
        " 'wait',\n",
        " 'cramped',\n",
        " 'lost',\n",
        " 'fail',\n",
        " 'fml',\n",
        " 'cry',\n",
        " 'garbage',\n",
        " 'smell']"
       ]
      }
     ],
     "prompt_number": 44
    },
    {
     "cell_type": "code",
     "collapsed": false,
     "input": [
      "positive_words"
     ],
     "language": "python",
     "metadata": {},
     "outputs": [
      {
       "output_type": "pyout",
       "prompt_number": 45,
       "text": [
        "['love',\n",
        " 'like',\n",
        " 'happy',\n",
        " 'wonderful',\n",
        " 'relax',\n",
        " 'great',\n",
        " 'lovely',\n",
        " 'easy',\n",
        " 'best',\n",
        " 'comfortable',\n",
        " 'fantastic',\n",
        " 'joy',\n",
        " 'roomy',\n",
        " 'spacious',\n",
        " 'win',\n",
        " 'on time']"
       ]
      }
     ],
     "prompt_number": 45
    },
    {
     "cell_type": "code",
     "collapsed": false,
     "input": [
      "d = []\n",
      "for keyword in keywds:\n",
      "\tsomeTweets = api.GetSearch(keyword, per_page=200)\n",
      "\tfor tweet in someTweets:\n",
      "\t\ttweet_dict = {}\n",
      "\t\t# keyword\n",
      "\t\ttweet_dict['keyword'] = keyword\n",
      "\t\t# user\n",
      "\t\ttweet_dict['user'] = tweet.user.screen_name\n",
      "\t\t# text\n",
      "\t\ttweet_dict['text'] = tweet.text\n",
      "\t\t# num words\n",
      "\t\ttweet_dict['nwords'] = len(tweet.text.split(' '))\n",
      "\t\t# num chars\n",
      "\t\ttweet_dict['nchars'] = len(tweet.text)\n",
      "\t\t# location\n",
      "\t\t#tweet_dict['location'] = tweet.user.location\n",
      "\t\t# num followers\n",
      "\t\t#tweet_dict['followers'] = tweet.user.followers_count\n",
      "\t\t# num usair mentions\n",
      "\t\ttweet_dict['usair'] = len(re.findall('usair',tweet.text))\n",
      "\t\t# num united mentions\n",
      "\t\ttweet_dict['united'] = len(re.findall('united',tweet.text))\n",
      "\t\t# num delta mentions\n",
      "\t\ttweet_dict['delta'] = len(re.findall('delta',tweet.text))\n",
      "\t\t# num jetblue mentions\n",
      "\t\ttweet_dict['jetblue'] = len(re.findall('jetblue',tweet.text))\n",
      "\t\t# num positive words\n",
      "\t\ttweet_dict['positive'] = len(re.findall('|'.join(positive_words),tweet.text))\n",
      "\t\t# num negative words\n",
      "\t\ttweet_dict['negative'] = len(re.findall('|'.join(negative_words),tweet.text))\n",
      "\t\td.append(tweet_dict)\n",
      "df = pd.DataFrame(d)"
     ],
     "language": "python",
     "metadata": {},
     "outputs": [],
     "prompt_number": 62
    },
    {
     "cell_type": "code",
     "collapsed": false,
     "input": [
      "df[:2]"
     ],
     "language": "python",
     "metadata": {},
     "outputs": [
      {
       "html": [
        "<div style=\"max-height:1000px;max-width:1500px;overflow:auto;\">\n",
        "<table border=\"1\" class=\"dataframe\">\n",
        "  <thead>\n",
        "    <tr style=\"text-align: right;\">\n",
        "      <th></th>\n",
        "      <th>delta</th>\n",
        "      <th>jetblue</th>\n",
        "      <th>keyword</th>\n",
        "      <th>nchars</th>\n",
        "      <th>negative</th>\n",
        "      <th>nwords</th>\n",
        "      <th>positive</th>\n",
        "      <th>text</th>\n",
        "      <th>united</th>\n",
        "      <th>usair</th>\n",
        "      <th>user</th>\n",
        "    </tr>\n",
        "  </thead>\n",
        "  <tbody>\n",
        "    <tr>\n",
        "      <th>0</th>\n",
        "      <td> 0</td>\n",
        "      <td> 0</td>\n",
        "      <td> flight</td>\n",
        "      <td> 138</td>\n",
        "      <td> 0</td>\n",
        "      <td> 27</td>\n",
        "      <td> 0</td>\n",
        "      <td> \"In 1 to 10 million years man could build a fl...</td>\n",
        "      <td> 0</td>\n",
        "      <td> 0</td>\n",
        "      <td>   WhatTheFFacts</td>\n",
        "    </tr>\n",
        "    <tr>\n",
        "      <th>1</th>\n",
        "      <td> 0</td>\n",
        "      <td> 0</td>\n",
        "      <td> flight</td>\n",
        "      <td> 125</td>\n",
        "      <td> 0</td>\n",
        "      <td> 23</td>\n",
        "      <td> 1</td>\n",
        "      <td> my love life will pretty much never be satisfa...</td>\n",
        "      <td> 0</td>\n",
        "      <td> 0</td>\n",
        "      <td> SincerelyTumblr</td>\n",
        "    </tr>\n",
        "  </tbody>\n",
        "</table>\n",
        "</div>"
       ],
       "output_type": "pyout",
       "prompt_number": 63,
       "text": [
        "   delta  jetblue keyword  nchars  negative  nwords  positive  \\\n",
        "0      0        0  flight     138         0      27         0   \n",
        "1      0        0  flight     125         0      23         1   \n",
        "\n",
        "                                                text  united  usair  \\\n",
        "0  \"In 1 to 10 million years man could build a fl...       0      0   \n",
        "1  my love life will pretty much never be satisfa...       0      0   \n",
        "\n",
        "              user  \n",
        "0    WhatTheFFacts  \n",
        "1  SincerelyTumblr  "
       ]
      }
     ],
     "prompt_number": 63
    },
    {
     "cell_type": "code",
     "collapsed": false,
     "input": [
      "df.text[0]"
     ],
     "language": "python",
     "metadata": {},
     "outputs": [
      {
       "output_type": "pyout",
       "prompt_number": 48,
       "text": [
        "u'\"In 1 to 10 million years man could build a flyable plane\", was an Article in the New York Times published 8 days before the first flight.'"
       ]
      }
     ],
     "prompt_number": 48
    },
    {
     "cell_type": "code",
     "collapsed": false,
     "input": [
      "df.user[:2]"
     ],
     "language": "python",
     "metadata": {},
     "outputs": [
      {
       "output_type": "pyout",
       "prompt_number": 57,
       "text": [
        "0      WhatTheFFacts\n",
        "1    SincerelyTumblr\n",
        "Name: user"
       ]
      }
     ],
     "prompt_number": 57
    },
    {
     "cell_type": "code",
     "collapsed": false,
     "input": [
      "df2 = df[['delta','usair','united','jetblue']]"
     ],
     "language": "python",
     "metadata": {},
     "outputs": [],
     "prompt_number": 64
    },
    {
     "cell_type": "code",
     "collapsed": false,
     "input": [
      "df2[:2]"
     ],
     "language": "python",
     "metadata": {},
     "outputs": [
      {
       "html": [
        "<div style=\"max-height:1000px;max-width:1500px;overflow:auto;\">\n",
        "<table border=\"1\" class=\"dataframe\">\n",
        "  <thead>\n",
        "    <tr style=\"text-align: right;\">\n",
        "      <th></th>\n",
        "      <th>delta</th>\n",
        "      <th>usair</th>\n",
        "      <th>united</th>\n",
        "      <th>jetblue</th>\n",
        "    </tr>\n",
        "  </thead>\n",
        "  <tbody>\n",
        "    <tr>\n",
        "      <th>0</th>\n",
        "      <td> 0</td>\n",
        "      <td> 0</td>\n",
        "      <td> 0</td>\n",
        "      <td> 0</td>\n",
        "    </tr>\n",
        "    <tr>\n",
        "      <th>1</th>\n",
        "      <td> 0</td>\n",
        "      <td> 0</td>\n",
        "      <td> 0</td>\n",
        "      <td> 0</td>\n",
        "    </tr>\n",
        "  </tbody>\n",
        "</table>\n",
        "</div>"
       ],
       "output_type": "pyout",
       "prompt_number": 65,
       "text": [
        "   delta  usair  united  jetblue\n",
        "0      0      0       0        0\n",
        "1      0      0       0        0"
       ]
      }
     ],
     "prompt_number": 65
    },
    {
     "cell_type": "code",
     "collapsed": false,
     "input": [
      "df2 = df2.where(df2>0)"
     ],
     "language": "python",
     "metadata": {},
     "outputs": [],
     "prompt_number": 66
    },
    {
     "cell_type": "code",
     "collapsed": false,
     "input": [
      "df2[:5]"
     ],
     "language": "python",
     "metadata": {},
     "outputs": [
      {
       "html": [
        "<div style=\"max-height:1000px;max-width:1500px;overflow:auto;\">\n",
        "<table border=\"1\" class=\"dataframe\">\n",
        "  <thead>\n",
        "    <tr style=\"text-align: right;\">\n",
        "      <th></th>\n",
        "      <th>delta</th>\n",
        "      <th>usair</th>\n",
        "      <th>united</th>\n",
        "      <th>jetblue</th>\n",
        "    </tr>\n",
        "  </thead>\n",
        "  <tbody>\n",
        "    <tr>\n",
        "      <th>0</th>\n",
        "      <td>NaN</td>\n",
        "      <td>NaN</td>\n",
        "      <td>NaN</td>\n",
        "      <td>NaN</td>\n",
        "    </tr>\n",
        "    <tr>\n",
        "      <th>1</th>\n",
        "      <td>NaN</td>\n",
        "      <td>NaN</td>\n",
        "      <td>NaN</td>\n",
        "      <td>NaN</td>\n",
        "    </tr>\n",
        "    <tr>\n",
        "      <th>2</th>\n",
        "      <td>NaN</td>\n",
        "      <td>NaN</td>\n",
        "      <td>NaN</td>\n",
        "      <td>NaN</td>\n",
        "    </tr>\n",
        "    <tr>\n",
        "      <th>3</th>\n",
        "      <td>NaN</td>\n",
        "      <td>NaN</td>\n",
        "      <td>NaN</td>\n",
        "      <td>NaN</td>\n",
        "    </tr>\n",
        "    <tr>\n",
        "      <th>4</th>\n",
        "      <td>NaN</td>\n",
        "      <td>NaN</td>\n",
        "      <td>NaN</td>\n",
        "      <td>NaN</td>\n",
        "    </tr>\n",
        "  </tbody>\n",
        "</table>\n",
        "</div>"
       ],
       "output_type": "pyout",
       "prompt_number": 69,
       "text": [
        "   delta  usair  united  jetblue\n",
        "0    NaN    NaN     NaN      NaN\n",
        "1    NaN    NaN     NaN      NaN\n",
        "2    NaN    NaN     NaN      NaN\n",
        "3    NaN    NaN     NaN      NaN\n",
        "4    NaN    NaN     NaN      NaN"
       ]
      }
     ],
     "prompt_number": 69
    },
    {
     "cell_type": "code",
     "collapsed": false,
     "input": [
      "df['airline_max'] = max(df2)"
     ],
     "language": "python",
     "metadata": {},
     "outputs": [],
     "prompt_number": 67
    },
    {
     "cell_type": "code",
     "collapsed": false,
     "input": [
      "df[:2]"
     ],
     "language": "python",
     "metadata": {},
     "outputs": [
      {
       "html": [
        "<div style=\"max-height:1000px;max-width:1500px;overflow:auto;\">\n",
        "<table border=\"1\" class=\"dataframe\">\n",
        "  <thead>\n",
        "    <tr style=\"text-align: right;\">\n",
        "      <th></th>\n",
        "      <th>delta</th>\n",
        "      <th>jetblue</th>\n",
        "      <th>keyword</th>\n",
        "      <th>nchars</th>\n",
        "      <th>negative</th>\n",
        "      <th>nwords</th>\n",
        "      <th>positive</th>\n",
        "      <th>text</th>\n",
        "      <th>united</th>\n",
        "      <th>usair</th>\n",
        "      <th>user</th>\n",
        "      <th>airline_max</th>\n",
        "    </tr>\n",
        "  </thead>\n",
        "  <tbody>\n",
        "    <tr>\n",
        "      <th>0</th>\n",
        "      <td> 0</td>\n",
        "      <td> 0</td>\n",
        "      <td> flight</td>\n",
        "      <td> 138</td>\n",
        "      <td> 0</td>\n",
        "      <td> 27</td>\n",
        "      <td> 0</td>\n",
        "      <td> \"In 1 to 10 million years man could build a fl...</td>\n",
        "      <td> 0</td>\n",
        "      <td> 0</td>\n",
        "      <td>   WhatTheFFacts</td>\n",
        "      <td> usair</td>\n",
        "    </tr>\n",
        "    <tr>\n",
        "      <th>1</th>\n",
        "      <td> 0</td>\n",
        "      <td> 0</td>\n",
        "      <td> flight</td>\n",
        "      <td> 125</td>\n",
        "      <td> 0</td>\n",
        "      <td> 23</td>\n",
        "      <td> 1</td>\n",
        "      <td> my love life will pretty much never be satisfa...</td>\n",
        "      <td> 0</td>\n",
        "      <td> 0</td>\n",
        "      <td> SincerelyTumblr</td>\n",
        "      <td> usair</td>\n",
        "    </tr>\n",
        "  </tbody>\n",
        "</table>\n",
        "</div>"
       ],
       "output_type": "pyout",
       "prompt_number": 68,
       "text": [
        "   delta  jetblue keyword  nchars  negative  nwords  positive  \\\n",
        "0      0        0  flight     138         0      27         0   \n",
        "1      0        0  flight     125         0      23         1   \n",
        "\n",
        "                                                text  united  usair  \\\n",
        "0  \"In 1 to 10 million years man could build a fl...       0      0   \n",
        "1  my love life will pretty much never be satisfa...       0      0   \n",
        "\n",
        "              user airline_max  \n",
        "0    WhatTheFFacts       usair  \n",
        "1  SincerelyTumblr       usair  "
       ]
      }
     ],
     "prompt_number": 68
    },
    {
     "cell_type": "code",
     "collapsed": false,
     "input": [
      "airline_counts = df2.sum()\n",
      "airline_counts"
     ],
     "language": "python",
     "metadata": {},
     "outputs": [
      {
       "output_type": "pyout",
       "prompt_number": 72,
       "text": [
        "delta      37\n",
        "usair      40\n",
        "united     17\n",
        "jetblue    11"
       ]
      }
     ],
     "prompt_number": 72
    },
    {
     "cell_type": "code",
     "collapsed": false,
     "input": [
      "stats.chisquare(airline_counts)"
     ],
     "language": "python",
     "metadata": {},
     "outputs": [
      {
       "output_type": "pyout",
       "prompt_number": 140,
       "text": [
        "(23.723809523809521, 2.8525988469884383e-05)"
       ]
      }
     ],
     "prompt_number": 140
    },
    {
     "cell_type": "code",
     "collapsed": true,
     "input": [
      "ind = np.arange(4)  # the x locations for the groups\n",
      "width = 0.75       # the width of the bars\n",
      "plt.bar(ind, airline_counts, width, color='b')\n",
      "# labels\n",
      "plt.ylabel('# Tweets')\n",
      "plt.xticks(ind+(width/2), ('DL', 'UA', 'UN', 'JB') )\n",
      "# show plot\n",
      "plt.show()"
     ],
     "language": "python",
     "metadata": {},
     "outputs": [],
     "prompt_number": 87
    },
    {
     "cell_type": "code",
     "collapsed": false,
     "input": [
      "print df.nchars.median()\n",
      "print df['nchars'].max()\n",
      "print df.nchars.min()"
     ],
     "language": "python",
     "metadata": {},
     "outputs": [
      {
       "output_type": "stream",
       "stream": "stdout",
       "text": [
        "106.5\n",
        "168\n",
        "5\n"
       ]
      }
     ],
     "prompt_number": 99
    },
    {
     "cell_type": "code",
     "collapsed": false,
     "input": [
      "plt.figure()\n",
      "plt.boxplot(df['nchars'],0,'gD')\n",
      "plt.ylabel(\"Number of characters\")\n",
      "plt.show()"
     ],
     "language": "python",
     "metadata": {},
     "outputs": [],
     "prompt_number": 111
    },
    {
     "cell_type": "code",
     "collapsed": false,
     "input": [
      "avgwds = df.nchars.mean()\n",
      "sdwds = df.nchars.std()"
     ],
     "language": "python",
     "metadata": {},
     "outputs": [],
     "prompt_number": 105
    },
    {
     "cell_type": "code",
     "collapsed": false,
     "input": [
      "n, bins, patches = plt.hist(df['nchars'], 20, facecolor='green', alpha=0.75)\n",
      "\n",
      "# add a 'best fit' line\n",
      "y = mlab.normpdf( bins, avgwds, sdwds)\n",
      "l = plt.plot(bins, y, 'r-', linewidth=2)\n",
      "\n",
      "plt.xlabel('Number of Characters')\n",
      "plt.ylabel('Frequency')\n",
      "plt.title('Histogram of Words Per Tweet')\n",
      "\n",
      "minplot = min(df['nchars']) - np.ceil(0.1*(max(df['nchars']) - min(df['nchars'])))\n",
      "maxplot = max(df['nchars']) + np.ceil(0.1*(max(df['nchars']) - min(df['nchars'])))\n",
      "plt.axis([min(df.nchars), max(df.nchars), 0, max(n)+0.01])\n",
      "plt.grid(True)\n",
      "\n",
      "plt.show()"
     ],
     "language": "python",
     "metadata": {},
     "outputs": [],
     "prompt_number": 110
    },
    {
     "cell_type": "code",
     "collapsed": false,
     "input": [
      "res = sm.OLS(df['nchars'],df['nwords']).fit()\n",
      "res.summary()"
     ],
     "language": "python",
     "metadata": {},
     "outputs": [
      {
       "html": [
        "<table class=\"simpletable\">\n",
        "<caption>OLS Regression Results</caption>\n",
        "<tr>\n",
        "  <th>Dep. Variable:</th>         <td>nchars</td>      <th>  R-squared:         </th> <td>   0.737</td>\n",
        "</tr>\n",
        "<tr>\n",
        "  <th>Model:</th>                   <td>OLS</td>       <th>  Adj. R-squared:    </th> <td>   0.737</td>\n",
        "</tr>\n",
        "<tr>\n",
        "  <th>Method:</th>             <td>Least Squares</td>  <th>  F-statistic:       </th> <td>     inf</td>\n",
        "</tr>\n",
        "<tr>\n",
        "  <th>Date:</th>             <td>Tue, 26 Feb 2013</td> <th>  Prob (F-statistic):</th>  <td>   nan</td> \n",
        "</tr>\n",
        "<tr>\n",
        "  <th>Time:</th>                 <td>19:32:14</td>     <th>  Log-Likelihood:    </th> <td> -2708.1</td>\n",
        "</tr>\n",
        "<tr>\n",
        "  <th>No. Observations:</th>      <td>   612</td>      <th>  AIC:               </th> <td>   5418.</td>\n",
        "</tr>\n",
        "<tr>\n",
        "  <th>Df Residuals:</th>          <td>   611</td>      <th>  BIC:               </th> <td>   5423.</td>\n",
        "</tr>\n",
        "<tr>\n",
        "  <th>Df Model:</th>              <td>     0</td>      <th>                     </th>     <td> </td>   \n",
        "</tr>\n",
        "</table>\n",
        "<table class=\"simpletable\">\n",
        "<tr>\n",
        "     <td></td>       <th>coef</th>     <th>std err</th>      <th>t</th>      <th>P>|t|</th> <th>[95.0% Conf. Int.]</th> \n",
        "</tr>\n",
        "<tr>\n",
        "  <th>nwords</th> <td>    6.2268</td> <td>    0.047</td> <td>  131.148</td> <td> 0.000</td> <td>    6.134     6.320</td>\n",
        "</tr>\n",
        "</table>\n",
        "<table class=\"simpletable\">\n",
        "<tr>\n",
        "  <th>Omnibus:</th>       <td>60.212</td> <th>  Durbin-Watson:     </th> <td>   1.698</td>\n",
        "</tr>\n",
        "<tr>\n",
        "  <th>Prob(Omnibus):</th> <td> 0.000</td> <th>  Jarque-Bera (JB):  </th> <td> 134.896</td>\n",
        "</tr>\n",
        "<tr>\n",
        "  <th>Skew:</th>          <td> 0.553</td> <th>  Prob(JB):          </th> <td>5.10e-30</td>\n",
        "</tr>\n",
        "<tr>\n",
        "  <th>Kurtosis:</th>      <td> 5.016</td> <th>  Cond. No.          </th> <td>    1.00</td>\n",
        "</tr>\n",
        "</table>"
       ],
       "output_type": "pyout",
       "prompt_number": 112,
       "text": [
        "<class 'statsmodels.iolib.summary.Summary'>\n",
        "\"\"\"\n",
        "                            OLS Regression Results                            \n",
        "==============================================================================\n",
        "Dep. Variable:                 nchars   R-squared:                       0.737\n",
        "Model:                            OLS   Adj. R-squared:                  0.737\n",
        "Method:                 Least Squares   F-statistic:                       inf\n",
        "Date:                Tue, 26 Feb 2013   Prob (F-statistic):                nan\n",
        "Time:                        19:32:14   Log-Likelihood:                -2708.1\n",
        "No. Observations:                 612   AIC:                             5418.\n",
        "Df Residuals:                     611   BIC:                             5423.\n",
        "Df Model:                           0                                         \n",
        "==============================================================================\n",
        "                 coef    std err          t      P>|t|      [95.0% Conf. Int.]\n",
        "------------------------------------------------------------------------------\n",
        "nwords         6.2268      0.047    131.148      0.000         6.134     6.320\n",
        "==============================================================================\n",
        "Omnibus:                       60.212   Durbin-Watson:                   1.698\n",
        "Prob(Omnibus):                  0.000   Jarque-Bera (JB):              134.896\n",
        "Skew:                           0.553   Prob(JB):                     5.10e-30\n",
        "Kurtosis:                       5.016   Cond. No.                         1.00\n",
        "==============================================================================\n",
        "\"\"\""
       ]
      }
     ],
     "prompt_number": 112
    },
    {
     "cell_type": "code",
     "collapsed": false,
     "input": [
      "m,b = polyfit(df['nwords'], df['nchars'], 1) \n",
      "\n",
      "plot(df['nwords'], df['nchars'], 'yo', df['nwords'], m*df['nwords']+b, '--k') \n",
      "show()"
     ],
     "language": "python",
     "metadata": {},
     "outputs": [],
     "prompt_number": 114
    },
    {
     "cell_type": "code",
     "collapsed": false,
     "input": [
      "df['airlinetotal'] = df['jetblue'] + df['united'] + df['usair'] + df['delta']"
     ],
     "language": "python",
     "metadata": {},
     "outputs": [],
     "prompt_number": 124
    },
    {
     "cell_type": "code",
     "collapsed": false,
     "input": [
      "df3 = df[df.airlinetotal>0]"
     ],
     "language": "python",
     "metadata": {},
     "outputs": [],
     "prompt_number": 125
    },
    {
     "cell_type": "code",
     "collapsed": false,
     "input": [
      "df3.text.count()"
     ],
     "language": "python",
     "metadata": {},
     "outputs": [
      {
       "output_type": "pyout",
       "prompt_number": 126,
       "text": [
        "92"
       ]
      }
     ],
     "prompt_number": 126
    },
    {
     "cell_type": "code",
     "collapsed": false,
     "input": [
      "df3[:5]"
     ],
     "language": "python",
     "metadata": {},
     "outputs": [
      {
       "html": [
        "<div style=\"max-height:1000px;max-width:1500px;overflow:auto;\">\n",
        "<table border=\"1\" class=\"dataframe\">\n",
        "  <thead>\n",
        "    <tr style=\"text-align: right;\">\n",
        "      <th></th>\n",
        "      <th>delta</th>\n",
        "      <th>jetblue</th>\n",
        "      <th>keyword</th>\n",
        "      <th>nchars</th>\n",
        "      <th>negative</th>\n",
        "      <th>nwords</th>\n",
        "      <th>positive</th>\n",
        "      <th>text</th>\n",
        "      <th>united</th>\n",
        "      <th>usair</th>\n",
        "      <th>user</th>\n",
        "      <th>airline_max</th>\n",
        "      <th>airlinetotal</th>\n",
        "    </tr>\n",
        "  </thead>\n",
        "  <tbody>\n",
        "    <tr>\n",
        "      <th>104</th>\n",
        "      <td> 0</td>\n",
        "      <td> 0</td>\n",
        "      <td> airline</td>\n",
        "      <td>  99</td>\n",
        "      <td> 1</td>\n",
        "      <td> 14</td>\n",
        "      <td> 0</td>\n",
        "      <td> Once combined, #usairways and #americanairline...</td>\n",
        "      <td> 0</td>\n",
        "      <td> 1</td>\n",
        "      <td>      simonsinek</td>\n",
        "      <td> usair</td>\n",
        "      <td> 1</td>\n",
        "    </tr>\n",
        "    <tr>\n",
        "      <th>135</th>\n",
        "      <td> 0</td>\n",
        "      <td> 2</td>\n",
        "      <td> airline</td>\n",
        "      <td> 118</td>\n",
        "      <td> 1</td>\n",
        "      <td> 18</td>\n",
        "      <td> 0</td>\n",
        "      <td> jetblue\\nairline\\nAll flights tonight of Jet B...</td>\n",
        "      <td> 0</td>\n",
        "      <td> 0</td>\n",
        "      <td> HewlettqhqGwend</td>\n",
        "      <td> usair</td>\n",
        "      <td> 2</td>\n",
        "    </tr>\n",
        "    <tr>\n",
        "      <th>142</th>\n",
        "      <td> 1</td>\n",
        "      <td> 0</td>\n",
        "      <td> airline</td>\n",
        "      <td> 143</td>\n",
        "      <td> 0</td>\n",
        "      <td> 21</td>\n",
        "      <td> 0</td>\n",
        "      <td> Continuously disappointed by @delta low price ...</td>\n",
        "      <td> 0</td>\n",
        "      <td> 0</td>\n",
        "      <td>    Ideationista</td>\n",
        "      <td> usair</td>\n",
        "      <td> 1</td>\n",
        "    </tr>\n",
        "    <tr>\n",
        "      <th>205</th>\n",
        "      <td> 0</td>\n",
        "      <td> 0</td>\n",
        "      <td>   usair</td>\n",
        "      <td>  16</td>\n",
        "      <td> 0</td>\n",
        "      <td>  3</td>\n",
        "      <td> 0</td>\n",
        "      <td>                                  vo usair falofaw</td>\n",
        "      <td> 0</td>\n",
        "      <td> 1</td>\n",
        "      <td> Tive1SonhoComVc</td>\n",
        "      <td> usair</td>\n",
        "      <td> 1</td>\n",
        "    </tr>\n",
        "    <tr>\n",
        "      <th>209</th>\n",
        "      <td> 0</td>\n",
        "      <td> 0</td>\n",
        "      <td>   usair</td>\n",
        "      <td>  35</td>\n",
        "      <td> 0</td>\n",
        "      <td>  7</td>\n",
        "      <td> 0</td>\n",
        "      <td>               Zone 5 is tha shizz! #usair #phlarp</td>\n",
        "      <td> 0</td>\n",
        "      <td> 1</td>\n",
        "      <td>      drewxsmith</td>\n",
        "      <td> usair</td>\n",
        "      <td> 1</td>\n",
        "    </tr>\n",
        "  </tbody>\n",
        "</table>\n",
        "</div>"
       ],
       "output_type": "pyout",
       "prompt_number": 128,
       "text": [
        "     delta  jetblue  keyword  nchars  negative  nwords  positive  \\\n",
        "104      0        0  airline      99         1      14         0   \n",
        "135      0        2  airline     118         1      18         0   \n",
        "142      1        0  airline     143         0      21         0   \n",
        "205      0        0    usair      16         0       3         0   \n",
        "209      0        0    usair      35         0       7         0   \n",
        "\n",
        "                                                  text  united  usair  \\\n",
        "104  Once combined, #usairways and #americanairline...       0      1   \n",
        "135  jetblue\\nairline\\nAll flights tonight of Jet B...       0      0   \n",
        "142  Continuously disappointed by @delta low price ...       0      0   \n",
        "205                                   vo usair falofaw       0      1   \n",
        "209                Zone 5 is tha shizz! #usair #phlarp       0      1   \n",
        "\n",
        "                user airline_max  airlinetotal  \n",
        "104       simonsinek       usair             1  \n",
        "135  HewlettqhqGwend       usair             2  \n",
        "142     Ideationista       usair             1  \n",
        "205  Tive1SonhoComVc       usair             1  \n",
        "209       drewxsmith       usair             1  "
       ]
      }
     ],
     "prompt_number": 128
    },
    {
     "cell_type": "code",
     "collapsed": false,
     "input": [
      "print df3.positive.sum()\n",
      "print df3.negative.sum()"
     ],
     "language": "python",
     "metadata": {},
     "outputs": [
      {
       "output_type": "stream",
       "stream": "stdout",
       "text": [
        "16\n",
        "11\n"
       ]
      }
     ],
     "prompt_number": 129
    },
    {
     "cell_type": "code",
     "collapsed": false,
     "input": [
      "stats.ttest_ind(df[df.keyword==\"united\"].nchars,df[df.keyword==\"usair\"].nchars)"
     ],
     "language": "python",
     "metadata": {},
     "outputs": [
      {
       "output_type": "pyout",
       "prompt_number": 134,
       "text": [
        "(array(-0.1284615373980626), 0.89791217671949963)"
       ]
      }
     ],
     "prompt_number": 134
    },
    {
     "cell_type": "code",
     "collapsed": false,
     "input": [
      "df[df.keyword==\"united\"].nchars.mean()"
     ],
     "language": "python",
     "metadata": {},
     "outputs": [
      {
       "output_type": "pyout",
       "prompt_number": 135,
       "text": [
        "102.68932038834951"
       ]
      }
     ],
     "prompt_number": 135
    },
    {
     "cell_type": "code",
     "collapsed": false,
     "input": [
      "df[df.keyword==\"usair\"].nchars.mean()"
     ],
     "language": "python",
     "metadata": {},
     "outputs": [
      {
       "output_type": "pyout",
       "prompt_number": 137,
       "text": [
        "103.33"
       ]
      }
     ],
     "prompt_number": 137
    },
    {
     "cell_type": "code",
     "collapsed": false,
     "input": [
      "155 / 7"
     ],
     "language": "python",
     "metadata": {},
     "outputs": [
      {
       "output_type": "pyout",
       "prompt_number": 141,
       "text": [
        "22"
       ]
      }
     ],
     "prompt_number": 141
    },
    {
     "cell_type": "code",
     "collapsed": false,
     "input": [
      "tweetd = []\n",
      "someTweets = api.GetSearch(\"airline\", per_page=100, page=1)\n",
      "for tweet in someTweets:\n",
      "    tweetd.append(tweet.text)"
     ],
     "language": "python",
     "metadata": {},
     "outputs": [],
     "prompt_number": 145
    },
    {
     "cell_type": "code",
     "collapsed": false,
     "input": [
      "len(tweetd)"
     ],
     "language": "python",
     "metadata": {},
     "outputs": [
      {
       "output_type": "pyout",
       "prompt_number": 148,
       "text": [
        "205"
       ]
      }
     ],
     "prompt_number": 148
    },
    {
     "cell_type": "code",
     "collapsed": false,
     "input": [
      "someTweets = api.GetSearch(\"airline\", per_page=100, page=2)\n",
      "for tweet in someTweets:\n",
      "    tweetd.append(tweet.text)"
     ],
     "language": "python",
     "metadata": {},
     "outputs": [],
     "prompt_number": 147
    },
    {
     "cell_type": "code",
     "collapsed": false,
     "input": [
      "tweetd[:2]"
     ],
     "language": "python",
     "metadata": {},
     "outputs": [
      {
       "output_type": "pyout",
       "prompt_number": 149,
       "text": [
        "[u\"So what's the deal with airline peanuts?\",\n",
        " u'RT for chance to win #MiFi Liberate Hotspot &amp; enter our Snow Day Sweepstakes for 2 airline tickets http://t.co/vVRuNgLbEV']"
       ]
      }
     ],
     "prompt_number": 149
    },
    {
     "cell_type": "code",
     "collapsed": false,
     "input": [
      "tweetd[102:108]"
     ],
     "language": "python",
     "metadata": {},
     "outputs": [
      {
       "output_type": "pyout",
       "prompt_number": 150,
       "text": [
        "[u\"arsenaux007 Totally!  I'm staying with a friend and I got a scholarship to help with the airline ticTJP\",\n",
        " u\"So what's the deal with airline peanuts?\",\n",
        " u'RT for chance to win #MiFi Liberate Hotspot &amp; enter our Snow Day Sweepstakes for 2 airline tickets http://t.co/vVRuNgLbEV',\n",
        " u'Once combined, #usairways and #americanairlines will become the largest bad airline in the country.',\n",
        " u\"arsenaux007 Totally!  I'm staying with a friend and I got a scholarship to help with the airline ticTJP\",\n",
        " u\"GetLuckywithLiv don't worry, when we get married my elite airline status transfers to you. nofees ba8MG\"]"
       ]
      }
     ],
     "prompt_number": 150
    },
    {
     "cell_type": "code",
     "collapsed": false,
     "input": [
      "re.findall('(?<!not )like','i do not like this sam i am')"
     ],
     "language": "python",
     "metadata": {},
     "outputs": [
      {
       "output_type": "pyout",
       "prompt_number": 156,
       "text": [
        "[]"
       ]
      }
     ],
     "prompt_number": 156
    },
    {
     "cell_type": "code",
     "collapsed": false,
     "input": [
      "test = u'\\u2134'"
     ],
     "language": "python",
     "metadata": {},
     "outputs": [],
     "prompt_number": 157
    },
    {
     "cell_type": "code",
     "collapsed": false,
     "input": [
      "test.encode('utf-8')"
     ],
     "language": "python",
     "metadata": {},
     "outputs": [
      {
       "output_type": "pyout",
       "prompt_number": 161,
       "text": [
        "'\\xe2\\x84\\xb4'"
       ]
      }
     ],
     "prompt_number": 161
    },
    {
     "cell_type": "code",
     "collapsed": false,
     "input": [
      "from twitter import Api"
     ],
     "language": "python",
     "metadata": {},
     "outputs": [],
     "prompt_number": 162
    },
    {
     "cell_type": "code",
     "collapsed": false,
     "input": [
      "import tweepy"
     ],
     "language": "python",
     "metadata": {},
     "outputs": [],
     "prompt_number": 170
    },
    {
     "cell_type": "code",
     "collapsed": false,
     "input": [],
     "language": "python",
     "metadata": {},
     "outputs": []
    }
   ],
   "metadata": {}
  }
 ]
}