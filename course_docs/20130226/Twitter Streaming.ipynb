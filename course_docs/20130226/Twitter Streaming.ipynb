{
 "metadata": {
  "name": "Twitter Streaming"
 },
 "nbformat": 3,
 "nbformat_minor": 0,
 "worksheets": [
  {
   "cells": [
    {
     "cell_type": "code",
     "collapsed": false,
     "input": [
      "# do pip install tweepy first\n",
      "from tweepy.streaming import StreamListener\n",
      "from tweepy import OAuthHandler\n",
      "from tweepy import Stream\n",
      "import numpy as np\n",
      "import json\n",
      "import pandas as pd\n",
      "import time\n",
      "\n",
      "consumer_key=\"HrI9pkJWwsdTL1jv9fDmg\"\n",
      "consumer_secret=\"xr0nXTJytnMdN7XIsoUIGNErJ5QuPJYv92VfBJnX8XI\"\n",
      "access_token=\"19202628-uzTh3h9JB6pM07JaB4fqA4oHnWffsd1blEwApA\"\n",
      "access_token_secret=\"bpP3m3anqew88u3MGAWPqFGElUv5RG4zFkEUDkAD2A\"\n",
      "\n",
      "\n",
      "class StdOutListener(StreamListener):\n",
      "\t\"\"\" A listener handles tweets are the received from the stream. \n",
      "\tThis is a basic listener that just prints received tweets to stdout.\n",
      "\n",
      "\t\"\"\"\n",
      "\tdef __init__(self):\n",
      "\t\tself.tweets = []\n",
      "\t\tself.starttime = time.strftime(\"%d_%H_%M\",time.localtime())\n",
      "\n",
      "\tdef on_data(self, data):\n",
      "\t\ttweet = json.loads(data)\n",
      "#\t\tprint tweet\n",
      "\t\tself.tweets.append(tweet)\n",
      "\t\tif len(self.tweets) % 30 == 0:\n",
      "\t\t\tprint len(self.tweets)\n",
      "\t\t\ttwitterData = pd.DataFrame(self.tweets)\n",
      "\t\t\ttwitterData.to_csv(\"tweets_\"+self.starttime+\".csv\",encoding=\"utf-8\")\n",
      "\t\tif len(self.tweets) > 200:\n",
      "\t\t\texit(0)\n",
      "\t\telse:\n",
      "\t\t\treturn True\n",
      "\n",
      "\tdef on_error(self, status):\n",
      "\t\tprint status\n",
      "\n",
      "\tdef on_timeout(self):\n",
      "\t\tprint \"timeout!\"\n",
      "\t\treturn False\n",
      "\n",
      "\n",
      "lis = StdOutListener()\n",
      "auth = OAuthHandler(consumer_key, consumer_secret)\n",
      "auth.set_access_token(access_token, access_token_secret)\n",
      "\n",
      "stream = Stream(auth, lis, timeout=60)\t\n",
      "stream.filter(track=['song'])"
     ],
     "language": "python",
     "metadata": {},
     "outputs": [
      {
       "ename": "IndentationError",
       "evalue": "unindent does not match any outer indentation level (<ipython-input-11-08d0b731b8c7>, line 19)",
       "output_type": "pyerr",
       "traceback": [
        "\u001b[0;31mIndentationError\u001b[0m\u001b[0;31m:\u001b[0m unindent does not match any outer indentation level\n"
       ]
      }
     ],
     "prompt_number": 11
    },
    {
     "cell_type": "raw",
     "metadata": {},
     "source": []
    }
   ],
   "metadata": {}
  }
 ]
}