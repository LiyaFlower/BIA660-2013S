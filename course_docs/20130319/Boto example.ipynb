{
 "metadata": {
  "name": "Boto example"
 },
 "nbformat": 3,
 "nbformat_minor": 0,
 "worksheets": [
  {
   "cells": [
    {
     "cell_type": "code",
     "collapsed": false,
     "input": [
      "from boto.s3.connection import S3Connection\n",
      "from boto.s3.key import Key\n",
      "from boto.emr.connection import EmrConnection\n",
      "from boto.emr.step import StreamingStep\n",
      "import boto.emr"
     ],
     "language": "python",
     "metadata": {},
     "outputs": [],
     "prompt_number": 2
    },
    {
     "cell_type": "code",
     "collapsed": false,
     "input": [
      "### Adding and deleting files from S3\n",
      "\n",
      "#s3con = S3Connection('<aws access key>', '<aws secret key>')\n",
      "s3con = S3Connection('0CY3BC386720ZYZNWZ02', 'Jv37SHb/XNeqpY8vMrGeclcL6abfKHKd9Eeh5fmy')"
     ],
     "language": "python",
     "metadata": {},
     "outputs": [],
     "prompt_number": 3
    },
    {
     "cell_type": "code",
     "collapsed": false,
     "input": [
      "b = s3con.create_bucket('winteram-boto-example')\n",
      "#b = s3con.get_bucket('winteram-boto-example')"
     ],
     "language": "python",
     "metadata": {},
     "outputs": [],
     "prompt_number": 4
    },
    {
     "cell_type": "code",
     "collapsed": false,
     "input": [
      "k = Key(b)\n",
      "k.key = 'mapper.py'\n",
      "k.set_contents_from_filename('/Users/winteram/Documents/Teaching/WebAnalytics_2013S/BIA660-2013S/course_docs/20130319/mapper.py')\n",
      "k.close()"
     ],
     "language": "python",
     "metadata": {},
     "outputs": [],
     "prompt_number": 6
    },
    {
     "cell_type": "code",
     "collapsed": false,
     "input": [
      "k = Key(b)\n",
      "k.key = 'reducer.py'\n",
      "k.set_contents_from_filename('/Users/winteram/Documents/Teaching/WebAnalytics_2013S/BIA660-2013S/course_docs/20130319/reducer.py')\n",
      "k.close()"
     ],
     "language": "python",
     "metadata": {},
     "outputs": [],
     "prompt_number": 7
    },
    {
     "cell_type": "code",
     "collapsed": false,
     "input": [
      "for word in b.list():\n",
      "    print word"
     ],
     "language": "python",
     "metadata": {},
     "outputs": [
      {
       "output_type": "stream",
       "stream": "stdout",
       "text": [
        "<Key: winteram-boto-example,mapper>\n",
        "<Key: winteram-boto-example,mapper.py>\n",
        "<Key: winteram-boto-example,reducer.py>\n"
       ]
      }
     ],
     "prompt_number": 9
    },
    {
     "cell_type": "code",
     "collapsed": false,
     "input": [
      "### Running code with EMR\n",
      "\n",
      "#emrcon = EmrConnection('<aws access key>', '<aws secret key>')\n",
      "emrcon = EmrConnection('0CY3BC386720ZYZNWZ02', 'Jv37SHb/XNeqpY8vMrGeclcL6abfKHKd9Eeh5fmy')"
     ],
     "language": "python",
     "metadata": {},
     "outputs": [],
     "prompt_number": 3
    },
    {
     "cell_type": "code",
     "collapsed": false,
     "input": [
      "# Using EMR's wordcount example\n",
      "step = StreamingStep(name='My wordcount example',\n",
      "\tmapper='s3n://elasticmapreduce/samples/wordcount/wordSplitter.py',\n",
      "\treducer='aggregate', \n",
      "\tinput='s3n://elasticmapreduce/samples/wordcount/input',\n",
      "\toutput='s3n://winteram-boto-example/output/wordcount_output')"
     ],
     "language": "python",
     "metadata": {},
     "outputs": [],
     "prompt_number": 11
    },
    {
     "cell_type": "code",
     "collapsed": false,
     "input": [
      "jobid = emrcon.run_jobflow(name='Word Count Example', log_uri='s3://winteram-boto-example/logfiles',steps=[step])"
     ],
     "language": "python",
     "metadata": {},
     "outputs": [],
     "prompt_number": 13
    },
    {
     "cell_type": "code",
     "collapsed": false,
     "input": [
      "# Using EMR's wordcount example\n",
      "step = StreamingStep(name='Alcohol Step',\n",
      "\tmapper='s3n://bia660-winter/mapper.py',\n",
      "\treducer='s3n://bia660-winter/reducer.py', \n",
      "\tinput='s3://datasets.elasticmapreduce/ngrams/books/20090715/eng-us-all/3gram/data',\n",
      "\toutput='s3n://bia660-winter/output')"
     ],
     "language": "python",
     "metadata": {},
     "outputs": [],
     "prompt_number": 4
    },
    {
     "cell_type": "code",
     "collapsed": false,
     "input": [
      "jobid = emrcon.run_jobflow(name='Alcohol Religion 6', log_uri='s3://bia660-winter/logfiles',steps=[step],num_instances=4)"
     ],
     "language": "python",
     "metadata": {},
     "outputs": [],
     "prompt_number": 5
    },
    {
     "cell_type": "code",
     "collapsed": false,
     "input": [
      "jobid"
     ],
     "language": "python",
     "metadata": {},
     "outputs": [
      {
       "output_type": "pyout",
       "prompt_number": 6,
       "text": [
        "u'j-2KD6H2W36PE5T'"
       ]
      }
     ],
     "prompt_number": 6
    },
    {
     "cell_type": "code",
     "collapsed": false,
     "input": [
      "status = emrcon.describe_jobflow(jobid)\n",
      "print status.state"
     ],
     "language": "python",
     "metadata": {},
     "outputs": [
      {
       "output_type": "stream",
       "stream": "stdout",
       "text": [
        "RUNNING\n"
       ]
      }
     ],
     "prompt_number": 12
    },
    {
     "cell_type": "code",
     "collapsed": false,
     "input": [],
     "language": "python",
     "metadata": {},
     "outputs": []
    }
   ],
   "metadata": {}
  }
 ]
}